{
 "cells": [
  {
   "cell_type": "markdown",
   "metadata": {},
   "source": [
    "Your name goes here Pleaese"
   ]
  },
  {
   "cell_type": "markdown",
   "metadata": {},
   "source": [
    "## Lab Objective:\n",
    "Create a Python script that recursively searches a file system for files with identical names. Perform a comparison on files and output the file paths of identical files.\n",
    "\n",
    "\n",
    "## Required tasks\n",
    "1. A menu\n",
    "- this should be fairly easy seeing as your games (should) already have a menu system\n",
    "2. Recursive Search\n",
    "- a recursive search is a search that will travel into a folder and back out.\n",
    "3. Comparison\n",
    "- I recommend using a check sum comparison operation like MD5 or SHA-256\n",
    "4. Output\n",
    "- the program will output files and there directories\n",
    "- this can be done live or after\n",
    "\n",
    "\n",
    "## Instructions:\n",
    "Submit the file as a .py show it running in a .ipynb file\n",
    "\n",
    "\n",
    "\n",
    "Please find some sample code below to get you started"
   ]
  },
  {
   "cell_type": "code",
   "execution_count": null,
   "metadata": {},
   "outputs": [],
   "source": [
    "!python duplicate_finder.py"
   ]
  },
  {
   "cell_type": "code",
   "execution_count": null,
   "metadata": {},
   "outputs": [],
   "source": []
  }
 ],
 "metadata": {
  "kernelspec": {
   "display_name": "Python 3",
   "language": "python",
   "name": "python3"
  },
  "language_info": {
   "codemirror_mode": {
    "name": "ipython",
    "version": 3
   },
   "file_extension": ".py",
   "mimetype": "text/x-python",
   "name": "python",
   "nbconvert_exporter": "python",
   "pygments_lexer": "ipython3",
   "version": "3.13.2"
  }
 },
 "nbformat": 4,
 "nbformat_minor": 2
}
