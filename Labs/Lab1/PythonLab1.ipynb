{
 "cells": [
  {
   "cell_type": "code",
   "execution_count": 5,
   "id": "2ef21c52-2242-43d5-bd11-5308b66d975a",
   "metadata": {},
   "outputs": [
    {
     "name": "stdin",
     "output_type": "stream",
     "text": [
      "Make a guess 4\n"
     ]
    },
    {
     "name": "stdout",
     "output_type": "stream",
     "text": [
      "Nope, try again\n"
     ]
    }
   ],
   "source": [
    "# secretNum = 5\n",
    "\n",
    "#guess = int(input(\"Make a guess\"))\n",
    "#if guess == secretNum:\n",
    " #   print(\"Nice job, you guessed the number!\")\n",
    "#else:\n",
    "  #  print(\"Nope, try again\")"
   ]
  },
  {
   "cell_type": "code",
   "execution_count": 91,
   "id": "dc0d7ae7-dabc-45a9-bb9e-d824d749f933",
   "metadata": {
    "scrolled": true
   },
   "outputs": [
    {
     "name": "stdout",
     "output_type": "stream",
     "text": [
      "We are going to be playing a game: We are going to be rolling 5 dice in a row. Here we go!: \n",
      "Here are the five random dice that we roll: \n",
      "[4, 3, 6, 2, 5]\n",
      "Second game of dice! Here is the list: \n",
      "[1, 2, 4, 6, 1]\n",
      "yes\n",
      "yes\n",
      "yes\n",
      "no\n",
      "yes\n"
     ]
    }
   ],
   "source": [
    "import random # call function random for program\n",
    "\n",
    "def roll_dice(): # create a reusable die\n",
    "    return random.randint(1, 6) # range of numbers for die\n",
    "\n",
    "aList = [] # create a list\n",
    "print(\"Roll 5 dice in a row. Here we go!: \") \n",
    "\n",
    "print(\"Here are the five random dice that we roll: \")\n",
    "#---------------------------------------/------------------------------------------\n",
    "#                                FIRST GAME\n",
    "for i in range (5):\n",
    "   aList.append(roll_dice()) # dice roll added to list 5 times\n",
    "\n",
    "print(aList)\n",
    "\n",
    "\n",
    "# -------------------------------------/------------------------------------------\n",
    "#                               SECOND GAME\n",
    "bList = []\n",
    "print(\"Second game of dice! Here is the list: \")\n",
    "for i in range (5):\n",
    "    bList.append(roll_dice())  # dice roll added to list b 5 times\n",
    "\n",
    "print(bList)\n",
    "# ------------------------------------/----------------------------------------------\n",
    "#                                RESULTS\n",
    "for i in range(5):\n",
    "    if aList[i] > bList[i]: # traverse lists to see if number from aList > bList\n",
    "        print(\"yes\")\n",
    "    else:\n",
    "        if aList[i] < bList[i]: # traverse list to see if number from alist < bList\n",
    "            print(\"no\")\n",
    "        else:\n",
    "            print(\"same\")\n",
    "\n",
    "# My partner is Jose Zavala. The code is a dice game that gives you points for rolling 1-6. \n",
    "# If 1 is rolled, you have bad luck and do not receive points\n",
    "# If 3 is rolled, you get medium points\n",
    "# If 6 is rolled, you get a lot of points \n",
    "# If 2 is rolled, you should retire"
   ]
  }
 ],
 "metadata": {
  "kernelspec": {
   "display_name": "Python 3 (ipykernel)",
   "language": "python",
   "name": "python3"
  },
  "language_info": {
   "codemirror_mode": {
    "name": "ipython",
    "version": 3
   },
   "file_extension": ".py",
   "mimetype": "text/x-python",
   "name": "python",
   "nbconvert_exporter": "python",
   "pygments_lexer": "ipython3",
   "version": "3.12.8"
  }
 },
 "nbformat": 4,
 "nbformat_minor": 5
}
