{
 "cells": [
  {
   "cell_type": "markdown",
   "metadata": {},
   "source": [
    "Your name goes here Pleaese"
   ]
  },
  {
   "cell_type": "markdown",
   "metadata": {},
   "source": [
    "## Lab Objective:\n",
    "Create a Python script that recursively searches a file system for files with identical names. Perform a comparison on files and output the file paths of identical files.\n",
    "\n",
    "## Required tasks\n",
    "1. A menu\n",
    "    - this should be fairly easy seeing as your games (should) already have a menu system\n",
    "2. Recursive Search\n",
    "    - a recursive search is a search that will travle into a folder and back out.\n",
    "3. Comparison\n",
    "    - I recomend using a check sum comparison operation like MD5 or SHA-256\n",
    "4. Output\n",
    "    - the program will output files and there directories \n",
    "        - this can be done live or after\n",
    "\n",
    "## Instructions:\n",
    "Submit the file as a .py show it running in a .ipynb file\n",
    "\n",
    "\n",
    "Please find some sample code below to get you started\n",
    "\n"
   ]
  },
  {
   "cell_type": "code",
   "execution_count": 1,
   "metadata": {},
   "outputs": [
    {
     "name": "stdout",
     "output_type": "stream",
     "text": [
      "\n",
      "--- File Duplicate Finder ---\n",
      "1. Enter directory to search\n",
      "2. Exit\n",
      "Scanning directory: Users/antmo/OneDrive/Desktop/ETE4990_python_ws\n",
      "\n",
      "No duplicate files found.\n",
      "\n",
      "--- File Duplicate Finder ---\n",
      "1. Enter directory to search\n",
      "2. Exit\n",
      "Scanning directory: c:/Users/antmo/OneDrive/Desktop/ETE4990_python_ws/homeworkfolder-Monte-4990/Labs/Lab6\n",
      "Checking in: c:/Users/antmo/OneDrive/Desktop/ETE4990_python_ws/homeworkfolder-Monte-4990/Labs/Lab6\n",
      "Found file: c:/Users/antmo/OneDrive/Desktop/ETE4990_python_ws/homeworkfolder-Monte-4990/Labs/Lab6\\Lab6stuff.ipynb\n",
      "Found file: c:/Users/antmo/OneDrive/Desktop/ETE4990_python_ws/homeworkfolder-Monte-4990/Labs/Lab6\\Lab6Stuffs.py\n",
      "Found file: c:/Users/antmo/OneDrive/Desktop/ETE4990_python_ws/homeworkfolder-Monte-4990/Labs/Lab6\\Lab6Tester.py\n",
      "Found file: c:/Users/antmo/OneDrive/Desktop/ETE4990_python_ws/homeworkfolder-Monte-4990/Labs/Lab6\\test.txt\n",
      "Found file: c:/Users/antmo/OneDrive/Desktop/ETE4990_python_ws/homeworkfolder-Monte-4990/Labs/Lab6\\testa.txt\n",
      "Found file: c:/Users/antmo/OneDrive/Desktop/ETE4990_python_ws/homeworkfolder-Monte-4990/Labs/Lab6\\_YourName_Lab 07 (5).ipynb\n",
      "\n",
      "No duplicate files found.\n",
      "\n",
      "--- File Duplicate Finder ---\n",
      "1. Enter directory to search\n",
      "2. Exit\n",
      "Scanning directory: 2\n",
      "\n",
      "No duplicate files found.\n",
      "\n",
      "--- File Duplicate Finder ---\n",
      "1. Enter directory to search\n",
      "2. Exit\n",
      "Exiting program.\n"
     ]
    }
   ],
   "source": [
    "import os\n",
    "import hashlib\n",
    "\n",
    "def menu():\n",
    "    while True:\n",
    "        print(\"\\n--- File Duplicate Finder ---\")\n",
    "        print(\"1. Enter directory to search\")\n",
    "        print(\"2. Exit\")\n",
    "        choice = input(\"Choose an option: \")\n",
    "\n",
    "        if choice == \"1\":\n",
    "            directory = input(\"Enter the directory path to scan: \")\n",
    "            find_duplicates(directory)  # Call the function\n",
    "        elif choice == \"2\":\n",
    "            print(\"Exiting program.\")\n",
    "            break  # Exit the loop\n",
    "        else:\n",
    "            print(\"Invalid option. Try again.\")\n",
    "\n",
    "def find_duplicates(directory):\n",
    "    print(f\"Scanning directory: {directory}\")  # Debugging print\n",
    "    file_dict = {}  # Dictionary to store filenames and their paths\n",
    "    duplicates = []  # List to store duplicate files\n",
    "\n",
    "    for root, _, files in os.walk(directory):\n",
    "        print(f\"Checking in: {root}\")  # Debugging print\n",
    "        for file in files:\n",
    "            file_path = os.path.join(root, file)\n",
    "            print(f\"Found file: {file_path}\")  # Debugging print\n",
    "\n",
    "            if file in file_dict:\n",
    "                print(f\"Possible duplicate found: {file}\")  # Debugging print\n",
    "                # Compare checksums\n",
    "                if get_checksum(file_path) == get_checksum(file_dict[file]):\n",
    "                    duplicates.append((file_dict[file], file_path))\n",
    "            else:\n",
    "                file_dict[file] = file_path\n",
    "\n",
    "    if duplicates:\n",
    "        print(\"\\nDuplicate Files Found:\")\n",
    "        for original, duplicate in duplicates:\n",
    "            print(f\"Duplicate: {duplicate} (matches {original})\")\n",
    "    else:\n",
    "        print(\"\\nNo duplicate files found.\")\n",
    "\n",
    "def get_checksum(file_path):\n",
    "    \"\"\"Generate SHA-256 checksum of a file\"\"\"\n",
    "    hash_obj = hashlib.sha256()\n",
    "    try:\n",
    "        with open(file_path, 'rb') as f:\n",
    "            while chunk := f.read(8192):\n",
    "                hash_obj.update(chunk)\n",
    "    except Exception as e:\n",
    "        print(f\"Error reading file {file_path}: {e}\")\n",
    "    return hash_obj.hexdigest()\n",
    "\n",
    "if __name__ == \"__main__\":\n",
    "    menu()"
   ]
  },
  {
   "cell_type": "code",
   "execution_count": 10,
   "metadata": {},
   "outputs": [
    {
     "name": "stdout",
     "output_type": "stream",
     "text": [
      "Lab6stuff.ipynb\n",
      "test.txt\n",
      "testa.txt\n",
      "_YourName_Lab 07 (5).ipynb\n"
     ]
    }
   ],
   "source": [
    "import os\n",
    "\n",
    "def find_duplicates(directory):\n",
    "    # search os.walk(directory):\n",
    "    # use a dictionary to store file names and paths\n",
    "    # compare files with the same name\n",
    "     for root, _, files in os.walk(directory):\n",
    "        for file in files:\n",
    "            file_path = os.path.join(root, file)\n",
    "            print(file)\n",
    "\n",
    "\n",
    "find_duplicates(r'C:\\Users\\antmo\\OneDrive\\Desktop\\ETE4990_python_ws\\homeworkfolder-Monte-4990\\Labs\\Lab6')"
   ]
  },
  {
   "cell_type": "code",
   "execution_count": null,
   "metadata": {},
   "outputs": [],
   "source": []
  }
 ],
 "metadata": {
  "kernelspec": {
   "display_name": "Python 3",
   "language": "python",
   "name": "python3"
  },
  "language_info": {
   "codemirror_mode": {
    "name": "ipython",
    "version": 3
   },
   "file_extension": ".py",
   "mimetype": "text/x-python",
   "name": "python",
   "nbconvert_exporter": "python",
   "pygments_lexer": "ipython3",
   "version": "3.13.1"
  }
 },
 "nbformat": 4,
 "nbformat_minor": 2
}
