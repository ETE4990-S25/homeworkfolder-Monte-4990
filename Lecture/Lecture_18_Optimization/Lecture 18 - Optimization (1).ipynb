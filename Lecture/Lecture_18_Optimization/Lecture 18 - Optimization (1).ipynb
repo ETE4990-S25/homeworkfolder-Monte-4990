{
 "cells": [
  {
   "cell_type": "markdown",
   "id": "06128186-1e14-4d40-a476-807d9399ac99",
   "metadata": {},
   "source": [
    "# Code Optimization\n",
    "\n",
    "Code optimization is the process of making an application work more efficiently, usually without modifying its functionality and accuracy. Code optimization is usually concerned with the speed of processing, but can also be used to minimize the usage of different resources, such as memory, disk space, or network bandwidth.\n",
    "\n",
    "Jaworski , Michal and Tarek Ziadé. Expert Python Programming. Packt Publishing, 2019.\n"
   ]
  },
  {
   "cell_type": "markdown",
   "id": "2995bf7b-e125-4861-bf2a-3bceb42e753f",
   "metadata": {},
   "source": [
    "Even the best logging, metrics, and tracing systems will give you only a rough overview of the performance problem. If you decide to fix it, you will have to perform a careful profiling process that will uncover detailed resource usage patterns\n",
    "\n",
    "What are the main performance killers?\n",
    "- Excessive complexity\n",
    "- Excessive resource allocation and resource leaks\n",
    "- Excessive I/O and blocking operations\n"
   ]
  },
  {
   "cell_type": "markdown",
   "id": "bc4d68e2-bf26-44e4-9cce-0982434f531d",
   "metadata": {},
   "source": [
    "## Code complexity\n",
    "The two most popular ways to define application complexity are as follows:\n",
    "\n",
    "**Cyclomatic complexity** - which is very often correlated with application performance.\n",
    "\n",
    "**The Landau notation** - also known as big O notation, is an algorithm classification method that is useful in objectively judging code performance.\n",
    "\n",
    "## Cyclomatic complexity\n",
    "Short and sweet higher complexity = lower performance\n",
    "\n",
    "| | | \n",
    "|:---|:---|\n",
    "|Cyclomatic complexity value|Complexity class|\n",
    "|1 to 10|Not complex|\n",
    "|11 to 20|Moderately complex|\n",
    "|21 to 50|Really complex|\n",
    "|Above 50|Too complex|\n",
    "\n",
    "## The big O notation\n",
    "Defines how an algorithm is affected by the size of the input\n",
    "To measure the big O notation, all constants and low-order terms are removed in order to focus on the portion that really matters when the size of the input data grows very large.\n",
    "\n",
    "\n",
    "This is commonly expressed using **Big O notation**.\n",
    "\n",
    "| Big O        | Name                | Example                |\n",
    "|--------------|---------------------|------------------------|\n",
    "| O(1)         | Constant time        | Accessing an array element |\n",
    "| O(log n)     | Logarithmic time     | Binary search           |\n",
    "| O(n)         | Linear time          | Iterating over a list   |\n",
    "| O(n log n)   | Linearithmic time    | Efficient sorting (e.g., mergesort) |\n",
    "| O(n²)        | Quadratic time       | Nested loops over data  |\n",
    "| O(2ⁿ), O(n!) | Exponential / factorial | Recursive combinatorics |\n",
    "\n",
    "### Example\n",
    "```python\n",
    "def function(n):\n",
    "    for i in range(n):\n",
    "        print(i)\n",
    "\n",
    "```\n",
    "\n",
    "the print() function will be executed n times therefor O(n)"
   ]
  },
  {
   "cell_type": "markdown",
   "id": "5762af17-13e2-4b0e-b086-7b20f4775f1b",
   "metadata": {},
   "source": [
    "## Profiling CPU usage\n",
    "\n",
    "There are two ways to profile the code:\n",
    "\n",
    "**Macro-profiling** - This profiles the whole program while it is being used and generates statistics.\n",
    "\n",
    "**Micro-profiling** - This measures a precise part of the program by instrumenting it manually.\n",
    "\n",
    "\n"
   ]
  },
  {
   "cell_type": "markdown",
   "id": "0cb08217-e197-4e2d-9489-3e1e2633369a",
   "metadata": {},
   "source": [
    "## Macro-profiling\n",
    "You can do different tools tow of the available to you in Python:\n",
    "\n",
    "- `profile`: A pure-Python profiler suitable for teaching or light use.\n",
    "- `cProfile`: A C-optimized profiler, more efficient and widely used in practice."
   ]
  },
  {
   "cell_type": "code",
   "execution_count": 37,
   "id": "01605d49-6ffb-467a-8076-773ce1783d78",
   "metadata": {},
   "outputs": [],
   "source": [
    "import time\n",
    "class runIT(object):\n",
    "    def __init__(self):\n",
    "        for i in range(5): \n",
    "            self.heavy() \n",
    "\n",
    "    def medium(self): \n",
    "        time.sleep(0.01) \n",
    "     \n",
    "    def light(self): \n",
    "        time.sleep(0.001) \n",
    "     \n",
    "    def heavy(self): \n",
    "        for i in range(100): \n",
    "            self.light() \n",
    "            self.medium() \n",
    "            self.medium() \n",
    "        time.sleep(2) "
   ]
  },
  {
   "cell_type": "code",
   "execution_count": 5,
   "id": "b468ee68",
   "metadata": {},
   "outputs": [
    {
     "ename": "NameError",
     "evalue": "name 'runIT' is not defined",
     "output_type": "error",
     "traceback": [
      "\u001b[1;31m---------------------------------------------------------------------------\u001b[0m",
      "\u001b[1;31mNameError\u001b[0m                                 Traceback (most recent call last)",
      "Cell \u001b[1;32mIn[5], line 1\u001b[0m\n\u001b[1;32m----> 1\u001b[0m \u001b[43mget_ipython\u001b[49m\u001b[43m(\u001b[49m\u001b[43m)\u001b[49m\u001b[38;5;241;43m.\u001b[39;49m\u001b[43mrun_cell_magic\u001b[49m\u001b[43m(\u001b[49m\u001b[38;5;124;43m'\u001b[39;49m\u001b[38;5;124;43mprun\u001b[39;49m\u001b[38;5;124;43m'\u001b[39;49m\u001b[43m,\u001b[49m\u001b[43m \u001b[49m\u001b[38;5;124;43m'\u001b[39;49m\u001b[38;5;124;43m-s cumulative -q -l 10 -T prun0\u001b[39;49m\u001b[38;5;124;43m'\u001b[39;49m\u001b[43m,\u001b[49m\u001b[43m \u001b[49m\u001b[38;5;124;43m'\u001b[39;49m\u001b[38;5;124;43mruns = runIT()\u001b[39;49m\u001b[38;5;130;43;01m\\n\u001b[39;49;00m\u001b[38;5;124;43m'\u001b[39;49m\u001b[43m)\u001b[49m\n",
      "File \u001b[1;32m~\\AppData\\Roaming\\Python\\Python313\\site-packages\\IPython\\core\\interactiveshell.py:2543\u001b[0m, in \u001b[0;36mInteractiveShell.run_cell_magic\u001b[1;34m(self, magic_name, line, cell)\u001b[0m\n\u001b[0;32m   2541\u001b[0m \u001b[38;5;28;01mwith\u001b[39;00m \u001b[38;5;28mself\u001b[39m\u001b[38;5;241m.\u001b[39mbuiltin_trap:\n\u001b[0;32m   2542\u001b[0m     args \u001b[38;5;241m=\u001b[39m (magic_arg_s, cell)\n\u001b[1;32m-> 2543\u001b[0m     result \u001b[38;5;241m=\u001b[39m \u001b[43mfn\u001b[49m\u001b[43m(\u001b[49m\u001b[38;5;241;43m*\u001b[39;49m\u001b[43margs\u001b[49m\u001b[43m,\u001b[49m\u001b[43m \u001b[49m\u001b[38;5;241;43m*\u001b[39;49m\u001b[38;5;241;43m*\u001b[39;49m\u001b[43mkwargs\u001b[49m\u001b[43m)\u001b[49m\n\u001b[0;32m   2545\u001b[0m \u001b[38;5;66;03m# The code below prevents the output from being displayed\u001b[39;00m\n\u001b[0;32m   2546\u001b[0m \u001b[38;5;66;03m# when using magics with decorator @output_can_be_silenced\u001b[39;00m\n\u001b[0;32m   2547\u001b[0m \u001b[38;5;66;03m# when the last Python token in the expression is a ';'.\u001b[39;00m\n\u001b[0;32m   2548\u001b[0m \u001b[38;5;28;01mif\u001b[39;00m \u001b[38;5;28mgetattr\u001b[39m(fn, magic\u001b[38;5;241m.\u001b[39mMAGIC_OUTPUT_CAN_BE_SILENCED, \u001b[38;5;28;01mFalse\u001b[39;00m):\n",
      "File \u001b[1;32m~\\AppData\\Roaming\\Python\\Python313\\site-packages\\IPython\\core\\magics\\execution.py:317\u001b[0m, in \u001b[0;36mExecutionMagics.prun\u001b[1;34m(self, parameter_s, cell)\u001b[0m\n\u001b[0;32m    315\u001b[0m     arg_str \u001b[38;5;241m+\u001b[39m\u001b[38;5;241m=\u001b[39m \u001b[38;5;124m'\u001b[39m\u001b[38;5;130;01m\\n\u001b[39;00m\u001b[38;5;124m'\u001b[39m \u001b[38;5;241m+\u001b[39m cell\n\u001b[0;32m    316\u001b[0m arg_str \u001b[38;5;241m=\u001b[39m \u001b[38;5;28mself\u001b[39m\u001b[38;5;241m.\u001b[39mshell\u001b[38;5;241m.\u001b[39mtransform_cell(arg_str)\n\u001b[1;32m--> 317\u001b[0m \u001b[38;5;28;01mreturn\u001b[39;00m \u001b[38;5;28;43mself\u001b[39;49m\u001b[38;5;241;43m.\u001b[39;49m\u001b[43m_run_with_profiler\u001b[49m\u001b[43m(\u001b[49m\u001b[43marg_str\u001b[49m\u001b[43m,\u001b[49m\u001b[43m \u001b[49m\u001b[43mopts\u001b[49m\u001b[43m,\u001b[49m\u001b[43m \u001b[49m\u001b[38;5;28;43mself\u001b[39;49m\u001b[38;5;241;43m.\u001b[39;49m\u001b[43mshell\u001b[49m\u001b[38;5;241;43m.\u001b[39;49m\u001b[43muser_ns\u001b[49m\u001b[43m)\u001b[49m\n",
      "File \u001b[1;32m~\\AppData\\Roaming\\Python\\Python313\\site-packages\\IPython\\core\\magics\\execution.py:339\u001b[0m, in \u001b[0;36mExecutionMagics._run_with_profiler\u001b[1;34m(self, code, opts, namespace)\u001b[0m\n\u001b[0;32m    337\u001b[0m prof \u001b[38;5;241m=\u001b[39m profile\u001b[38;5;241m.\u001b[39mProfile()\n\u001b[0;32m    338\u001b[0m \u001b[38;5;28;01mtry\u001b[39;00m:\n\u001b[1;32m--> 339\u001b[0m     prof \u001b[38;5;241m=\u001b[39m \u001b[43mprof\u001b[49m\u001b[38;5;241;43m.\u001b[39;49m\u001b[43mrunctx\u001b[49m\u001b[43m(\u001b[49m\u001b[43mcode\u001b[49m\u001b[43m,\u001b[49m\u001b[43m \u001b[49m\u001b[43mnamespace\u001b[49m\u001b[43m,\u001b[49m\u001b[43m \u001b[49m\u001b[43mnamespace\u001b[49m\u001b[43m)\u001b[49m\n\u001b[0;32m    340\u001b[0m     sys_exit \u001b[38;5;241m=\u001b[39m \u001b[38;5;124m'\u001b[39m\u001b[38;5;124m'\u001b[39m\n\u001b[0;32m    341\u001b[0m \u001b[38;5;28;01mexcept\u001b[39;00m \u001b[38;5;167;01mSystemExit\u001b[39;00m:\n",
      "File \u001b[1;32mc:\\Users\\antmo\\AppData\\Local\\Programs\\Python\\Python313\\Lib\\cProfile.py:104\u001b[0m, in \u001b[0;36mProfile.runctx\u001b[1;34m(self, cmd, globals, locals)\u001b[0m\n\u001b[0;32m    102\u001b[0m \u001b[38;5;28mself\u001b[39m\u001b[38;5;241m.\u001b[39menable()\n\u001b[0;32m    103\u001b[0m \u001b[38;5;28;01mtry\u001b[39;00m:\n\u001b[1;32m--> 104\u001b[0m     \u001b[43mexec\u001b[49m\u001b[43m(\u001b[49m\u001b[43mcmd\u001b[49m\u001b[43m,\u001b[49m\u001b[43m \u001b[49m\u001b[38;5;28;43mglobals\u001b[39;49m\u001b[43m,\u001b[49m\u001b[43m \u001b[49m\u001b[38;5;28;43mlocals\u001b[39;49m\u001b[43m)\u001b[49m\n\u001b[0;32m    105\u001b[0m \u001b[38;5;28;01mfinally\u001b[39;00m:\n\u001b[0;32m    106\u001b[0m     \u001b[38;5;28mself\u001b[39m\u001b[38;5;241m.\u001b[39mdisable()\n",
      "File \u001b[1;32m<string>:1\u001b[0m\n",
      "\u001b[1;31mNameError\u001b[0m: name 'runIT' is not defined"
     ]
    }
   ],
   "source": [
    "%%prun -s cumulative -q -l 10 -T prun0\n",
    "runs = runIT()"
   ]
  },
  {
   "cell_type": "code",
   "execution_count": 30,
   "id": "32e0a9fc-abcf-4323-b6a2-b903f62e06a9",
   "metadata": {},
   "outputs": [
    {
     "name": "stdout",
     "output_type": "stream",
     "text": [
      "         3336 function calls (3320 primitive calls) in 21.371 seconds\n",
      "\n",
      "   Ordered by: cumulative time\n",
      "   List reduced from 103 to 10 due to restriction <10>\n",
      "\n",
      "   ncalls  tottime  percall  cumtime  percall filename:lineno(function)\n",
      "     1505   20.501    0.014   20.501    0.014 {built-in method time.sleep}\n",
      "        5    0.006    0.001   16.611    3.322 4277315889.py:13(heavy)\n",
      "     1000    0.006    0.000   10.518    0.011 4277315889.py:7(medium)\n",
      "        1    0.000    0.000    5.452    5.452 <string>:1(<module>)\n",
      "        1    0.000    0.000    5.452    5.452 4277315889.py:3(__init__)\n",
      "      500    0.004    0.000    0.824    0.002 4277315889.py:10(light)\n",
      "        2    0.003    0.002    0.003    0.002 {method '__exit__' of 'sqlite3.Connection' objects}\n",
      "        4    0.000    0.000    0.001    0.000 events.py:87(_run)\n",
      "        4    0.000    0.000    0.001    0.000 {method 'run' of '_contextvars.Context' objects}\n",
      "        2    0.000    0.000    0.001    0.000 iostream.py:118(_run_event_pipe_gc)\n"
     ]
    }
   ],
   "source": [
    "print(open('prun0', 'r').read())"
   ]
  },
  {
   "cell_type": "markdown",
   "id": "ce0e6af0-cf82-4b5c-bd7e-551d3a0d38c7",
   "metadata": {},
   "source": [
    "The meaning of each column is as follows:\n",
    "\n",
    "\n",
    "| Column        | Description                                                                 |\n",
    "|---------------|-----------------------------------------------------------------------------|\n",
    "| `ncalls`      | Total number of calls to the function                                        |\n",
    "| `tottime`     | Total time spent in the function (excluding subcalls)                        |\n",
    "| `percall`     | `tottime` divided by `ncalls` (avg time per direct call)                    |\n",
    "| `cumtime`     | Cumulative time including all subcalls                                      |\n",
    "| `percall`     | `cumtime` divided by `ncalls` (avg time including subcalls)                 |\n"
   ]
  },
  {
   "cell_type": "code",
   "execution_count": 6,
   "id": "389d538c-70c4-4b73-a90b-aa8e41f52f86",
   "metadata": {},
   "outputs": [
    {
     "ename": "NameError",
     "evalue": "name 'runIT' is not defined",
     "output_type": "error",
     "traceback": [
      "\u001b[1;31m---------------------------------------------------------------------------\u001b[0m",
      "\u001b[1;31mNameError\u001b[0m                                 Traceback (most recent call last)",
      "Cell \u001b[1;32mIn[6], line 3\u001b[0m\n\u001b[0;32m      1\u001b[0m \u001b[38;5;28;01mimport\u001b[39;00m\u001b[38;5;250m \u001b[39m\u001b[38;5;21;01mcProfile\u001b[39;00m\n\u001b[0;32m      2\u001b[0m profiler \u001b[38;5;241m=\u001b[39m cProfile\u001b[38;5;241m.\u001b[39mProfile()\n\u001b[1;32m----> 3\u001b[0m profiler\u001b[38;5;241m.\u001b[39mruncall(\u001b[43mrunIT\u001b[49m)\n\u001b[0;32m      4\u001b[0m profiler\u001b[38;5;241m.\u001b[39mprint_stats()\n",
      "\u001b[1;31mNameError\u001b[0m: name 'runIT' is not defined"
     ]
    }
   ],
   "source": [
    "import cProfile\n",
    "profiler = cProfile.Profile()\n",
    "profiler.runcall(runIT)\n",
    "profiler.print_stats()"
   ]
  },
  {
   "cell_type": "markdown",
   "id": "85a738f6-558d-4de5-a67c-673a967753a3",
   "metadata": {},
   "source": [
    "## Profiling your code line-by-line with line_profiler\n",
    "\n",
    "Sometimes we need an even more detailed analysis of code performance \n",
    "\n",
    "This is particularly useful when optimizing algorithms, loops, or numerically intensive routines.\n",
    "\n",
    "To profile code line-by-line, we need an external Python module named `line_profiler`."
   ]
  },
  {
   "cell_type": "code",
   "execution_count": 7,
   "id": "24ef4dfa",
   "metadata": {},
   "outputs": [
    {
     "name": "stdout",
     "output_type": "stream",
     "text": [
      "Collecting line_profiler\n",
      "  Downloading line_profiler-4.2.0-cp313-cp313-win_amd64.whl.metadata (35 kB)\n",
      "Downloading line_profiler-4.2.0-cp313-cp313-win_amd64.whl (128 kB)\n",
      "Installing collected packages: line_profiler\n",
      "Successfully installed line_profiler-4.2.0\n"
     ]
    },
    {
     "name": "stderr",
     "output_type": "stream",
     "text": [
      "\n",
      "[notice] A new release of pip is available: 24.3.1 -> 25.0.1\n",
      "[notice] To update, run: python.exe -m pip install --upgrade pip\n"
     ]
    }
   ],
   "source": [
    "!pip install line_profiler"
   ]
  },
  {
   "cell_type": "markdown",
   "id": "b0c3496b-6bdc-4234-85a5-dc9cb3f06ce5",
   "metadata": {},
   "source": [
    "\n",
    "\n"
   ]
  },
  {
   "cell_type": "code",
   "execution_count": null,
   "id": "0414ca43-414f-4e7c-9b34-6586f5da4c6a",
   "metadata": {},
   "outputs": [
    {
     "name": "stdout",
     "output_type": "stream",
     "text": [
      "Overwriting runIT.py\n"
     ]
    }
   ],
   "source": [
    "\n",
    "\n",
    "%%writefile runIT.py \n",
    "import time\n",
    "def medium(): \n",
    "    time.sleep(0.01) \n",
    " \n",
    "def light(): \n",
    "    time.sleep(0.001) \n",
    " \n",
    "def heavy(): \n",
    "    for i in range(100): \n",
    "        light() \n",
    "        medium() \n",
    "        medium() \n",
    "    time.sleep(2) \n",
    " \n",
    "def runit(n): \n",
    "    for i in range(n): \n",
    "        heavy()"
   ]
  },
  {
   "cell_type": "code",
   "execution_count": 10,
   "id": "dc3f4a58-7072-4c27-9797-1408afe63d86",
   "metadata": {},
   "outputs": [],
   "source": [
    "from runIT import runit"
   ]
  },
  {
   "cell_type": "code",
   "execution_count": 11,
   "id": "39f3541f-0f20-4016-a8dc-be8e3a9abe33",
   "metadata": {},
   "outputs": [],
   "source": [
    "import numpy as np\n",
    "%load_ext line_profiler"
   ]
  },
  {
   "cell_type": "markdown",
   "id": "84a8b5ef",
   "metadata": {},
   "source": [
    "The `line_profiler` package integrates with IPython via the `%lprun`"
   ]
  },
  {
   "cell_type": "code",
   "execution_count": 3,
   "id": "745d5f15-1a59-4a9d-9fc1-a15f9b2cdbbf",
   "metadata": {},
   "outputs": [
    {
     "name": "stderr",
     "output_type": "stream",
     "text": [
      "UsageError: Line magic function `%lprun` not found.\n"
     ]
    }
   ],
   "source": [
    "#%lprun -T lprof0 -f simulate simulate(50)\n",
    "%lprun -T lprof0 -f runit runit(5)"
   ]
  },
  {
   "cell_type": "code",
   "execution_count": 4,
   "id": "c18d336a-056d-4204-bedf-4569030efb6d",
   "metadata": {},
   "outputs": [
    {
     "ename": "FileNotFoundError",
     "evalue": "[Errno 2] No such file or directory: 'lprof0'",
     "output_type": "error",
     "traceback": [
      "\u001b[1;31m---------------------------------------------------------------------------\u001b[0m",
      "\u001b[1;31mFileNotFoundError\u001b[0m                         Traceback (most recent call last)",
      "Cell \u001b[1;32mIn[4], line 1\u001b[0m\n\u001b[1;32m----> 1\u001b[0m \u001b[38;5;28mprint\u001b[39m(\u001b[38;5;28;43mopen\u001b[39;49m\u001b[43m(\u001b[49m\u001b[38;5;124;43m'\u001b[39;49m\u001b[38;5;124;43mlprof0\u001b[39;49m\u001b[38;5;124;43m'\u001b[39;49m\u001b[43m,\u001b[49m\u001b[43m \u001b[49m\u001b[38;5;124;43m'\u001b[39;49m\u001b[38;5;124;43mr\u001b[39;49m\u001b[38;5;124;43m'\u001b[39;49m\u001b[43m)\u001b[49m\u001b[38;5;241m.\u001b[39mread())\n",
      "File \u001b[1;32m~\\AppData\\Roaming\\Python\\Python313\\site-packages\\IPython\\core\\interactiveshell.py:324\u001b[0m, in \u001b[0;36m_modified_open\u001b[1;34m(file, *args, **kwargs)\u001b[0m\n\u001b[0;32m    317\u001b[0m \u001b[38;5;28;01mif\u001b[39;00m file \u001b[38;5;129;01min\u001b[39;00m {\u001b[38;5;241m0\u001b[39m, \u001b[38;5;241m1\u001b[39m, \u001b[38;5;241m2\u001b[39m}:\n\u001b[0;32m    318\u001b[0m     \u001b[38;5;28;01mraise\u001b[39;00m \u001b[38;5;167;01mValueError\u001b[39;00m(\n\u001b[0;32m    319\u001b[0m         \u001b[38;5;124mf\u001b[39m\u001b[38;5;124m\"\u001b[39m\u001b[38;5;124mIPython won\u001b[39m\u001b[38;5;124m'\u001b[39m\u001b[38;5;124mt let you open fd=\u001b[39m\u001b[38;5;132;01m{\u001b[39;00mfile\u001b[38;5;132;01m}\u001b[39;00m\u001b[38;5;124m by default \u001b[39m\u001b[38;5;124m\"\u001b[39m\n\u001b[0;32m    320\u001b[0m         \u001b[38;5;124m\"\u001b[39m\u001b[38;5;124mas it is likely to crash IPython. If you know what you are doing, \u001b[39m\u001b[38;5;124m\"\u001b[39m\n\u001b[0;32m    321\u001b[0m         \u001b[38;5;124m\"\u001b[39m\u001b[38;5;124myou can use builtins\u001b[39m\u001b[38;5;124m'\u001b[39m\u001b[38;5;124m open.\u001b[39m\u001b[38;5;124m\"\u001b[39m\n\u001b[0;32m    322\u001b[0m     )\n\u001b[1;32m--> 324\u001b[0m \u001b[38;5;28;01mreturn\u001b[39;00m \u001b[43mio_open\u001b[49m\u001b[43m(\u001b[49m\u001b[43mfile\u001b[49m\u001b[43m,\u001b[49m\u001b[43m \u001b[49m\u001b[38;5;241;43m*\u001b[39;49m\u001b[43margs\u001b[49m\u001b[43m,\u001b[49m\u001b[43m \u001b[49m\u001b[38;5;241;43m*\u001b[39;49m\u001b[38;5;241;43m*\u001b[39;49m\u001b[43mkwargs\u001b[49m\u001b[43m)\u001b[49m\n",
      "\u001b[1;31mFileNotFoundError\u001b[0m: [Errno 2] No such file or directory: 'lprof0'"
     ]
    }
   ],
   "source": [
    "print(open('lprof0', 'r').read())"
   ]
  },
  {
   "cell_type": "code",
   "execution_count": null,
   "id": "c841bc2b-8421-4015-9c41-9518e1c419f4",
   "metadata": {},
   "outputs": [
    {
     "ename": "ModuleNotFoundError",
     "evalue": "No module named 'requests'",
     "output_type": "error",
     "traceback": [
      "\u001b[1;31m---------------------------------------------------------------------------\u001b[0m",
      "\u001b[1;31mModuleNotFoundError\u001b[0m                       Traceback (most recent call last)",
      "Cell \u001b[1;32mIn[25], line 4\u001b[0m\n\u001b[0;32m      1\u001b[0m \u001b[38;5;66;03m#%%writefile rates.py\u001b[39;00m\n\u001b[0;32m      2\u001b[0m \u001b[38;5;66;03m#from condenced from Lecture 11\u001b[39;00m\n\u001b[0;32m      3\u001b[0m \u001b[38;5;28;01mimport\u001b[39;00m\u001b[38;5;250m \u001b[39m\u001b[38;5;21;01mthreading\u001b[39;00m\n\u001b[1;32m----> 4\u001b[0m \u001b[38;5;28;01mimport\u001b[39;00m\u001b[38;5;250m \u001b[39m\u001b[38;5;21;01mrequests\u001b[39;00m\n\u001b[0;32m      5\u001b[0m \u001b[38;5;28;01mimport\u001b[39;00m\u001b[38;5;250m \u001b[39m\u001b[38;5;21;01mjson\u001b[39;00m\n\u001b[0;32m      6\u001b[0m \u001b[38;5;28;01mdef\u001b[39;00m\u001b[38;5;250m \u001b[39m\u001b[38;5;21mfetch_rate\u001b[39m(bases, symbols \u001b[38;5;241m=\u001b[39m[\u001b[38;5;124m'\u001b[39m\u001b[38;5;124meur\u001b[39m\u001b[38;5;124m'\u001b[39m,\u001b[38;5;124m'\u001b[39m\u001b[38;5;124mjpy\u001b[39m\u001b[38;5;124m'\u001b[39m,\u001b[38;5;124m'\u001b[39m\u001b[38;5;124musd\u001b[39m\u001b[38;5;124m'\u001b[39m] ):\n",
      "\u001b[1;31mModuleNotFoundError\u001b[0m: No module named 'requests'"
     ]
    }
   ],
   "source": [
    "#%%writefile rates.py\n",
    "#from condenced from Lecture 11\n",
    "import threading\n",
    "import requests\n",
    "import json\n",
    "def fetch_rate(bases, symbols =['eur','jpy','usd'] ):\n",
    "    for base in bases:\n",
    "        web = \"http://www.floatrates.com/daily/\"+str(base)+\".json\"\n",
    "        response = requests.get(web)\n",
    "        rate = response.json()\n",
    "        rate[base]= {'rate':1}\n",
    "        \n",
    "        #create a line to output the rate\n",
    "        rates_line = \", \".join(\n",
    "            [f\"{symbol}{float(rate[symbol]['rate']):10.04}\" \n",
    "             for symbol in symbols]\n",
    "        )\n",
    "        print(f\"{base} = {rates_line}\")"
   ]
  },
  {
   "cell_type": "code",
   "execution_count": null,
   "id": "3ee7b1c6-a505-45ce-bf4d-220eea9ca771",
   "metadata": {},
   "outputs": [
    {
     "name": "stderr",
     "output_type": "stream",
     "text": [
      "UsageError: Line magic function `%lprun` not found.\n"
     ]
    }
   ],
   "source": [
    "%lprun -T lprof1 -f fetch_rate fetch_rate(['eur','jpy','usd','rub','cad'])"
   ]
  },
  {
   "cell_type": "code",
   "execution_count": null,
   "id": "f62a78cd-ec0c-4b1a-9ba4-83f4eb9fc76c",
   "metadata": {},
   "outputs": [
    {
     "ename": "NameError",
     "evalue": "name 'light' is not defined",
     "output_type": "error",
     "traceback": [
      "\u001b[1;31m---------------------------------------------------------------------------\u001b[0m",
      "\u001b[1;31mNameError\u001b[0m                                 Traceback (most recent call last)",
      "Cell \u001b[1;32mIn[14], line 5\u001b[0m\n\u001b[0;32m      3\u001b[0m \u001b[38;5;28;01mfrom\u001b[39;00m\u001b[38;5;250m \u001b[39m\u001b[38;5;21;01mline_profiler\u001b[39;00m\u001b[38;5;250m \u001b[39m\u001b[38;5;28;01mimport\u001b[39;00m LineProfiler\n\u001b[0;32m      4\u001b[0m lp \u001b[38;5;241m=\u001b[39m LineProfiler()\n\u001b[1;32m----> 5\u001b[0m lp\u001b[38;5;241m.\u001b[39madd_function(\u001b[43mlight\u001b[49m)\n\u001b[0;32m      6\u001b[0m lp\u001b[38;5;241m.\u001b[39madd_function(medium)\n\u001b[0;32m      7\u001b[0m lp\u001b[38;5;241m.\u001b[39madd_function(heavy)\n",
      "\u001b[1;31mNameError\u001b[0m: name 'light' is not defined"
     ]
    }
   ],
   "source": [
    "#to profile multiple function within the code you can do the following\n",
    "from runIT import heavy\n",
    "from line_profiler import LineProfiler\n",
    "lp = LineProfiler()\n",
    "lp.add_function(light)\n",
    "lp.add_function(medium)\n",
    "lp.add_function(heavy)\n",
    "lpp = lp(runit)\n",
    "lpp(1)\n",
    "\n",
    "\n",
    "lp.print_stats()\n"
   ]
  },
  {
   "cell_type": "code",
   "execution_count": null,
   "id": "73684764-3da3-4c7d-bdc6-51b70ce00cc5",
   "metadata": {},
   "outputs": [],
   "source": [
    "print(open('lprof2', 'r').read())"
   ]
  },
  {
   "cell_type": "markdown",
   "id": "bab56397-9238-4a61-98ed-118b5ce08a2b",
   "metadata": {},
   "source": [
    "# Profiling the Memory Usage\n",
    "\n",
    "Memory profiling helps identify unnecessary allocations that can degrade long-running systems.\n",
    "\n",
    "Writing memory-efficient code is critical for performance, especially in high-throughput or data-intensive applications (e.g., when working with large NumPy arrays or data frames).\n",
    "\n",
    "\n",
    "The `memory_profiler` package integrates with IPython via the `%memit` magic command, allowing you to measure the memory usage of individual lines or functions.\n"
   ]
  },
  {
   "cell_type": "markdown",
   "id": "0e45d7a5-dacc-4802-bfa0-d88efefc5e29",
   "metadata": {},
   "source": [
    "``` bash\n",
    "!pip install memory_profiler\n",
    "````"
   ]
  },
  {
   "cell_type": "code",
   "execution_count": 8,
   "id": "d9b46514-9b81-4353-bc08-2d56d445896d",
   "metadata": {},
   "outputs": [
    {
     "ename": "ModuleNotFoundError",
     "evalue": "No module named 'distutils'",
     "output_type": "error",
     "traceback": [
      "\u001b[1;31m---------------------------------------------------------------------------\u001b[0m",
      "\u001b[1;31mModuleNotFoundError\u001b[0m                       Traceback (most recent call last)",
      "Cell \u001b[1;32mIn[8], line 1\u001b[0m\n\u001b[1;32m----> 1\u001b[0m \u001b[43mget_ipython\u001b[49m\u001b[43m(\u001b[49m\u001b[43m)\u001b[49m\u001b[38;5;241;43m.\u001b[39;49m\u001b[43mrun_line_magic\u001b[49m\u001b[43m(\u001b[49m\u001b[38;5;124;43m'\u001b[39;49m\u001b[38;5;124;43mload_ext\u001b[39;49m\u001b[38;5;124;43m'\u001b[39;49m\u001b[43m,\u001b[49m\u001b[43m \u001b[49m\u001b[38;5;124;43m'\u001b[39;49m\u001b[38;5;124;43mmemory_profiler\u001b[39;49m\u001b[38;5;124;43m'\u001b[39;49m\u001b[43m)\u001b[49m\n\u001b[0;32m      2\u001b[0m \u001b[38;5;28;01mfrom\u001b[39;00m\u001b[38;5;250m \u001b[39m\u001b[38;5;21;01mrates\u001b[39;00m\u001b[38;5;250m \u001b[39m\u001b[38;5;28;01mimport\u001b[39;00m fetch_rate\n",
      "File \u001b[1;32m~\\AppData\\Roaming\\Python\\Python313\\site-packages\\IPython\\core\\interactiveshell.py:2482\u001b[0m, in \u001b[0;36mInteractiveShell.run_line_magic\u001b[1;34m(self, magic_name, line, _stack_depth)\u001b[0m\n\u001b[0;32m   2480\u001b[0m     kwargs[\u001b[38;5;124m'\u001b[39m\u001b[38;5;124mlocal_ns\u001b[39m\u001b[38;5;124m'\u001b[39m] \u001b[38;5;241m=\u001b[39m \u001b[38;5;28mself\u001b[39m\u001b[38;5;241m.\u001b[39mget_local_scope(stack_depth)\n\u001b[0;32m   2481\u001b[0m \u001b[38;5;28;01mwith\u001b[39;00m \u001b[38;5;28mself\u001b[39m\u001b[38;5;241m.\u001b[39mbuiltin_trap:\n\u001b[1;32m-> 2482\u001b[0m     result \u001b[38;5;241m=\u001b[39m \u001b[43mfn\u001b[49m\u001b[43m(\u001b[49m\u001b[38;5;241;43m*\u001b[39;49m\u001b[43margs\u001b[49m\u001b[43m,\u001b[49m\u001b[43m \u001b[49m\u001b[38;5;241;43m*\u001b[39;49m\u001b[38;5;241;43m*\u001b[39;49m\u001b[43mkwargs\u001b[49m\u001b[43m)\u001b[49m\n\u001b[0;32m   2484\u001b[0m \u001b[38;5;66;03m# The code below prevents the output from being displayed\u001b[39;00m\n\u001b[0;32m   2485\u001b[0m \u001b[38;5;66;03m# when using magics with decorator @output_can_be_silenced\u001b[39;00m\n\u001b[0;32m   2486\u001b[0m \u001b[38;5;66;03m# when the last Python token in the expression is a ';'.\u001b[39;00m\n\u001b[0;32m   2487\u001b[0m \u001b[38;5;28;01mif\u001b[39;00m \u001b[38;5;28mgetattr\u001b[39m(fn, magic\u001b[38;5;241m.\u001b[39mMAGIC_OUTPUT_CAN_BE_SILENCED, \u001b[38;5;28;01mFalse\u001b[39;00m):\n",
      "File \u001b[1;32m~\\AppData\\Roaming\\Python\\Python313\\site-packages\\IPython\\core\\magics\\extension.py:33\u001b[0m, in \u001b[0;36mExtensionMagics.load_ext\u001b[1;34m(self, module_str)\u001b[0m\n\u001b[0;32m     31\u001b[0m \u001b[38;5;28;01mif\u001b[39;00m \u001b[38;5;129;01mnot\u001b[39;00m module_str:\n\u001b[0;32m     32\u001b[0m     \u001b[38;5;28;01mraise\u001b[39;00m UsageError(\u001b[38;5;124m'\u001b[39m\u001b[38;5;124mMissing module name.\u001b[39m\u001b[38;5;124m'\u001b[39m)\n\u001b[1;32m---> 33\u001b[0m res \u001b[38;5;241m=\u001b[39m \u001b[38;5;28;43mself\u001b[39;49m\u001b[38;5;241;43m.\u001b[39;49m\u001b[43mshell\u001b[49m\u001b[38;5;241;43m.\u001b[39;49m\u001b[43mextension_manager\u001b[49m\u001b[38;5;241;43m.\u001b[39;49m\u001b[43mload_extension\u001b[49m\u001b[43m(\u001b[49m\u001b[43mmodule_str\u001b[49m\u001b[43m)\u001b[49m\n\u001b[0;32m     35\u001b[0m \u001b[38;5;28;01mif\u001b[39;00m res \u001b[38;5;241m==\u001b[39m \u001b[38;5;124m'\u001b[39m\u001b[38;5;124malready loaded\u001b[39m\u001b[38;5;124m'\u001b[39m:\n\u001b[0;32m     36\u001b[0m     \u001b[38;5;28mprint\u001b[39m(\u001b[38;5;124m\"\u001b[39m\u001b[38;5;124mThe \u001b[39m\u001b[38;5;132;01m%s\u001b[39;00m\u001b[38;5;124m extension is already loaded. To reload it, use:\u001b[39m\u001b[38;5;124m\"\u001b[39m \u001b[38;5;241m%\u001b[39m module_str)\n",
      "File \u001b[1;32m~\\AppData\\Roaming\\Python\\Python313\\site-packages\\IPython\\core\\extensions.py:62\u001b[0m, in \u001b[0;36mExtensionManager.load_extension\u001b[1;34m(self, module_str)\u001b[0m\n\u001b[0;32m     55\u001b[0m \u001b[38;5;250m\u001b[39m\u001b[38;5;124;03m\"\"\"Load an IPython extension by its module name.\u001b[39;00m\n\u001b[0;32m     56\u001b[0m \n\u001b[0;32m     57\u001b[0m \u001b[38;5;124;03mReturns the string \"already loaded\" if the extension is already loaded,\u001b[39;00m\n\u001b[0;32m     58\u001b[0m \u001b[38;5;124;03m\"no load function\" if the module doesn't have a load_ipython_extension\u001b[39;00m\n\u001b[0;32m     59\u001b[0m \u001b[38;5;124;03mfunction, or None if it succeeded.\u001b[39;00m\n\u001b[0;32m     60\u001b[0m \u001b[38;5;124;03m\"\"\"\u001b[39;00m\n\u001b[0;32m     61\u001b[0m \u001b[38;5;28;01mtry\u001b[39;00m:\n\u001b[1;32m---> 62\u001b[0m     \u001b[38;5;28;01mreturn\u001b[39;00m \u001b[38;5;28;43mself\u001b[39;49m\u001b[38;5;241;43m.\u001b[39;49m\u001b[43m_load_extension\u001b[49m\u001b[43m(\u001b[49m\u001b[43mmodule_str\u001b[49m\u001b[43m)\u001b[49m\n\u001b[0;32m     63\u001b[0m \u001b[38;5;28;01mexcept\u001b[39;00m \u001b[38;5;167;01mModuleNotFoundError\u001b[39;00m:\n\u001b[0;32m     64\u001b[0m     \u001b[38;5;28;01mif\u001b[39;00m module_str \u001b[38;5;129;01min\u001b[39;00m BUILTINS_EXTS:\n",
      "File \u001b[1;32m~\\AppData\\Roaming\\Python\\Python313\\site-packages\\IPython\\core\\extensions.py:79\u001b[0m, in \u001b[0;36mExtensionManager._load_extension\u001b[1;34m(self, module_str)\u001b[0m\n\u001b[0;32m     77\u001b[0m     mod \u001b[38;5;241m=\u001b[39m import_module(module_str)\n\u001b[0;32m     78\u001b[0m mod \u001b[38;5;241m=\u001b[39m sys\u001b[38;5;241m.\u001b[39mmodules[module_str]\n\u001b[1;32m---> 79\u001b[0m \u001b[38;5;28;01mif\u001b[39;00m \u001b[38;5;28;43mself\u001b[39;49m\u001b[38;5;241;43m.\u001b[39;49m\u001b[43m_call_load_ipython_extension\u001b[49m\u001b[43m(\u001b[49m\u001b[43mmod\u001b[49m\u001b[43m)\u001b[49m:\n\u001b[0;32m     80\u001b[0m     \u001b[38;5;28mself\u001b[39m\u001b[38;5;241m.\u001b[39mloaded\u001b[38;5;241m.\u001b[39madd(module_str)\n\u001b[0;32m     81\u001b[0m \u001b[38;5;28;01melse\u001b[39;00m:\n",
      "File \u001b[1;32m~\\AppData\\Roaming\\Python\\Python313\\site-packages\\IPython\\core\\extensions.py:129\u001b[0m, in \u001b[0;36mExtensionManager._call_load_ipython_extension\u001b[1;34m(self, mod)\u001b[0m\n\u001b[0;32m    127\u001b[0m \u001b[38;5;28;01mdef\u001b[39;00m\u001b[38;5;250m \u001b[39m\u001b[38;5;21m_call_load_ipython_extension\u001b[39m(\u001b[38;5;28mself\u001b[39m, mod):\n\u001b[0;32m    128\u001b[0m     \u001b[38;5;28;01mif\u001b[39;00m \u001b[38;5;28mhasattr\u001b[39m(mod, \u001b[38;5;124m'\u001b[39m\u001b[38;5;124mload_ipython_extension\u001b[39m\u001b[38;5;124m'\u001b[39m):\n\u001b[1;32m--> 129\u001b[0m         \u001b[43mmod\u001b[49m\u001b[38;5;241;43m.\u001b[39;49m\u001b[43mload_ipython_extension\u001b[49m\u001b[43m(\u001b[49m\u001b[38;5;28;43mself\u001b[39;49m\u001b[38;5;241;43m.\u001b[39;49m\u001b[43mshell\u001b[49m\u001b[43m)\u001b[49m\n\u001b[0;32m    130\u001b[0m         \u001b[38;5;28;01mreturn\u001b[39;00m \u001b[38;5;28;01mTrue\u001b[39;00m\n",
      "File \u001b[1;32mc:\\Users\\antmo\\AppData\\Local\\Programs\\Python\\Python313\\Lib\\site-packages\\memory_profiler.py:1160\u001b[0m, in \u001b[0;36mload_ipython_extension\u001b[1;34m(ip)\u001b[0m\n\u001b[0;32m   1157\u001b[0m \u001b[38;5;28;01mdef\u001b[39;00m\u001b[38;5;250m \u001b[39m\u001b[38;5;21mload_ipython_extension\u001b[39m(ip):\n\u001b[0;32m   1158\u001b[0m \u001b[38;5;250m    \u001b[39m\u001b[38;5;124;03m\"\"\"This is called to load the module as an IPython extension.\"\"\"\u001b[39;00m\n\u001b[1;32m-> 1160\u001b[0m     \u001b[43mMemoryProfilerMagics\u001b[49m\u001b[38;5;241;43m.\u001b[39;49m\u001b[43mregister_magics\u001b[49m\u001b[43m(\u001b[49m\u001b[43mip\u001b[49m\u001b[43m)\u001b[49m\n",
      "File \u001b[1;32mc:\\Users\\antmo\\AppData\\Local\\Programs\\Python\\Python313\\Lib\\site-packages\\memory_profiler.py:1134\u001b[0m, in \u001b[0;36mMemoryProfilerMagics.register_magics\u001b[1;34m(cls, ip)\u001b[0m\n\u001b[0;32m   1132\u001b[0m \u001b[38;5;129m@classmethod\u001b[39m\n\u001b[0;32m   1133\u001b[0m \u001b[38;5;28;01mdef\u001b[39;00m\u001b[38;5;250m \u001b[39m\u001b[38;5;21mregister_magics\u001b[39m(\u001b[38;5;28mcls\u001b[39m, ip):\n\u001b[1;32m-> 1134\u001b[0m     \u001b[38;5;28;01mfrom\u001b[39;00m\u001b[38;5;250m \u001b[39m\u001b[38;5;21;01mdistutils\u001b[39;00m\u001b[38;5;21;01m.\u001b[39;00m\u001b[38;5;21;01mversion\u001b[39;00m\u001b[38;5;250m \u001b[39m\u001b[38;5;28;01mimport\u001b[39;00m LooseVersion\n\u001b[0;32m   1135\u001b[0m     \u001b[38;5;28;01mimport\u001b[39;00m\u001b[38;5;250m \u001b[39m\u001b[38;5;21;01mIPython\u001b[39;00m\n\u001b[0;32m   1136\u001b[0m     ipython_version \u001b[38;5;241m=\u001b[39m LooseVersion(IPython\u001b[38;5;241m.\u001b[39m__version__)\n",
      "\u001b[1;31mModuleNotFoundError\u001b[0m: No module named 'distutils'"
     ]
    }
   ],
   "source": [
    "\n",
    "%load_ext memory_profiler\n",
    "from rates import fetch_rate"
   ]
  },
  {
   "cell_type": "code",
   "execution_count": null,
   "id": "308a3ae1-734e-4148-b64a-be0a5d82f39e",
   "metadata": {},
   "outputs": [],
   "source": [
    "%mprun -T mprof0 -f fetch_rate fetch_rate(['eur','jpy','usd','rub','cad'])"
   ]
  },
  {
   "cell_type": "code",
   "execution_count": null,
   "id": "08c66c43-4972-477e-955a-5f1be15c0216",
   "metadata": {},
   "outputs": [],
   "source": [
    "%mprun -T mprof1 -f runit runit(5)"
   ]
  },
  {
   "cell_type": "code",
   "execution_count": null,
   "id": "8cb9ef4f-a037-48e1-88c4-36bd739b92d8",
   "metadata": {},
   "outputs": [],
   "source": [
    "%mprun -T mprof2 -f my_func my_func()"
   ]
  },
  {
   "cell_type": "markdown",
   "id": "cbbe1400-1525-4303-b218-6c70aa9a4b89",
   "metadata": {},
   "source": [
    "the memory_profiler IPython extension also comes with a %memit magic command that lets us benchmark the memory used by a single Python statement"
   ]
  },
  {
   "cell_type": "code",
   "execution_count": null,
   "id": "e01af965-c90a-49d8-8e8e-a9c267f5225c",
   "metadata": {},
   "outputs": [],
   "source": [
    "%%memit \n",
    "with open('ItemData.json') as f:\n",
    "    items = json.load(f)\n"
   ]
  },
  {
   "cell_type": "markdown",
   "id": "d3bc11b2-93c6-484f-a58d-94a3ca03f44d",
   "metadata": {},
   "source": [
    "# Practical Speed Improvements"
   ]
  },
  {
   "cell_type": "code",
   "execution_count": null,
   "id": "853c4db7-058e-401a-9e89-cec46fea035e",
   "metadata": {},
   "outputs": [],
   "source": [
    "import random\n",
    "l = [random.normalvariate(0,1) for i in range(100000)]\n",
    "print(type(l))"
   ]
  },
  {
   "cell_type": "code",
   "execution_count": null,
   "id": "9af639e6-9f5b-4031-9486-5786e357891f",
   "metadata": {},
   "outputs": [],
   "source": [
    "#function that computes the sum of all numbers in that list\n",
    "def sum1():\n",
    "    res = 0\n",
    "    for i in range(len(l)):\n",
    "        res = res + l[i]\n",
    "    return res\n",
    "a = %timeit sum1()"
   ]
  },
  {
   "cell_type": "code",
   "execution_count": null,
   "id": "657a58d7-28ae-4000-a3a0-0f95f1bc5b87",
   "metadata": {},
   "outputs": [],
   "source": [
    "#same function but using the fact that python can enumerate \n",
    "#the elements of a list using for x in l instead of iterating with an index\n",
    "def sum2():\n",
    "    res = 0\n",
    "    for x in l:\n",
    "        res = res + x\n",
    "    return res\n",
    "b = %timeit sum2()"
   ]
  },
  {
   "cell_type": "code",
   "execution_count": null,
   "id": "ebf5bdb5-30b5-4d75-ba06-e696f65eb137",
   "metadata": {},
   "outputs": [],
   "source": [
    "#using pythongs built-in function to \n",
    "#compute the sum of all elements in a list\n",
    "def sum3():\n",
    "    return sum(l)\n",
    "c = %timeit sum3()"
   ]
  },
  {
   "cell_type": "markdown",
   "id": "e2a3a39d-318b-410a-8b37-ecd5eb63e73d",
   "metadata": {},
   "source": [
    "Strings"
   ]
  },
  {
   "cell_type": "code",
   "execution_count": null,
   "id": "7e7ea7a8-0fce-40b1-aa0f-fa58c19fb077",
   "metadata": {},
   "outputs": [],
   "source": [
    "strings = ['%.3f' % x for x in l]"
   ]
  },
  {
   "cell_type": "code",
   "execution_count": null,
   "id": "c8406481-6c26-488e-a1cd-c662842a7114",
   "metadata": {},
   "outputs": [],
   "source": [
    "#A function concatenating all strings in that list\n",
    "def concat1():\n",
    "    cat = strings[0]\n",
    "    for s in strings[1:]:\n",
    "        cat = cat + ', ' + s\n",
    "    return cat\n",
    "%timeit concat1()"
   ]
  },
  {
   "cell_type": "code",
   "execution_count": null,
   "id": "b9661609-cd62-452b-aac3-01af36e114a8",
   "metadata": {},
   "outputs": [],
   "source": [
    "#A function using pythongs built in string concatinator\n",
    "def concat2():\n",
    "    return ', '.join(strings)\n",
    "\n",
    "%timeit concat2()"
   ]
  },
  {
   "cell_type": "code",
   "execution_count": null,
   "id": "d84f5e79-51fc-4068-a9e1-6342dd17c2ea",
   "metadata": {},
   "outputs": [],
   "source": [
    "print(concat1()[:24])\n",
    "print(concat2()[:24])"
   ]
  },
  {
   "cell_type": "code",
   "execution_count": null,
   "id": "0841adb1-f1e4-4890-82eb-d4ef963c260b",
   "metadata": {},
   "outputs": [],
   "source": [
    "print(strings[:3])\n",
    "print(l[:3])"
   ]
  },
  {
   "cell_type": "markdown",
   "id": "9bc56dd7-eb46-47fd-bac9-92436df1f4d3",
   "metadata": {},
   "source": [
    "I hope this shows you the power of generators and functional programs. "
   ]
  },
  {
   "cell_type": "markdown",
   "id": "55707516-3c2c-49f3-a504-e3406024a5a0",
   "metadata": {},
   "source": [
    "# OMG ITS SO FAST\n",
    "\n",
    "[Numba](https://numba.pydata.org/) is a Just-in-Time (JIT) compiler that translates a subset of Python (primarily numerical code) into optimized machine code using LLVM.\n",
    "\n",
    "\n",
    "Performance speedups when compared to pure Python code can reach several orders of magnitude (10x to 1000x) and may even outmatch manually-vectorized NumPy code.\n",
    "\n",
    "In this section, we will show you how to accelerate pure Python code generating a Mandelbrot fractal.\n"
   ]
  },
  {
   "cell_type": "code",
   "execution_count": null,
   "id": "b2fa65e8-21f4-487a-ae00-6a3a27d8afc0",
   "metadata": {},
   "outputs": [],
   "source": [
    "import numpy as np\n",
    "import matplotlib.pyplot as plt\n",
    "%matplotlib inline"
   ]
  },
  {
   "cell_type": "code",
   "execution_count": null,
   "id": "c638a5a3-57ea-499d-b7a4-cc9e83d4a397",
   "metadata": {},
   "outputs": [],
   "source": [
    "size = 400\n",
    "iterations = 100"
   ]
  },
  {
   "cell_type": "markdown",
   "id": "42c6ba89",
   "metadata": {},
   "source": [
    "To enable JIT acceleration, decorate your functions with:\n",
    "\n",
    "```python\n",
    "from numba import jit\n",
    "\n",
    "@jit\n",
    "def compute(...):\n",
    "    #code goes here\n",
    "```\n"
   ]
  },
  {
   "cell_type": "code",
   "execution_count": null,
   "id": "bc9244a7-6b37-489c-a30d-0168c6e13cb6",
   "metadata": {},
   "outputs": [],
   "source": [
    "@jit\n",
    "def mandelbrot_python(size, iterations):\n",
    "    m = np.zeros((size, size))\n",
    "    for i in range(size):\n",
    "        for j in range(size):\n",
    "            c = (-2 + 3. / size * j +\n",
    "                 1j * (1.5 - 3. / size * i))\n",
    "            z = 0\n",
    "            for n in range(iterations):\n",
    "                if np.abs(z) <= 10:\n",
    "                    z = z * z + c\n",
    "                    m[i, j] = n\n",
    "                else:\n",
    "                    break\n",
    "    return m"
   ]
  },
  {
   "cell_type": "code",
   "execution_count": null,
   "id": "072d0083-2f2f-4548-87c1-863162956b5f",
   "metadata": {},
   "outputs": [],
   "source": [
    "m = mandelbrot_python(size, iterations)\n",
    "fig, ax = plt.subplots(1, 1, figsize=(10, 10))\n",
    "ax.imshow(np.log(m), cmap=plt.cm.hot)\n",
    "ax.set_axis_off()"
   ]
  },
  {
   "cell_type": "code",
   "execution_count": null,
   "id": "30ba83b0-72db-4adc-8c9c-8c057916ddee",
   "metadata": {},
   "outputs": [],
   "source": [
    "%timeit mandelbrot_python(size, iterations)"
   ]
  },
  {
   "cell_type": "code",
   "execution_count": null,
   "id": "527e1647-0fff-41b9-8a67-bec87309c115",
   "metadata": {},
   "outputs": [],
   "source": [
    "#!pip install numba\n",
    "from numba import jit"
   ]
  },
  {
   "cell_type": "code",
   "execution_count": null,
   "id": "7d07c326-90d3-4852-8d9e-4d8d10061028",
   "metadata": {},
   "outputs": [],
   "source": [
    "%timeit mandelbrot_python(size, iterations) #do it again with numba"
   ]
  },
  {
   "cell_type": "markdown",
   "id": "6bbe0251-3d7f-431e-ada5-de2e5878f864",
   "metadata": {},
   "source": [
    "## NOTE on JIT Compilation: \n",
    "Python bytecode is normally interpreted at runtime by the Python interpreter (most often, CPython). \n",
    "\n",
    "Numba functions are parsed and translated directly to machine code ahead of execution, using a powerful compiler architecture named Low Level Virtual Machine (LLVM).\n",
    "\n",
    "Numba generally gives the most impressive speedups on functions that involve tight loops on NumPy arrays.\n",
    "\n",
    "\n",
    "\n",
    "The @jit can only compile code that is also decorated with @jit or there is a known replacement inside Numba.\n",
    "\n",
    "Please see http://numba.pydata.org/numba-doc/latest/user/5minguide.html#will-numba-work-for-my-code for a quick description of what Numba support."
   ]
  },
  {
   "cell_type": "code",
   "execution_count": null,
   "id": "a9149a1a-e5db-4e4e-81fb-bcef00de0ce0",
   "metadata": {},
   "outputs": [],
   "source": []
  }
 ],
 "metadata": {
  "kernelspec": {
   "display_name": "Python 3",
   "language": "python",
   "name": "python3"
  },
  "language_info": {
   "codemirror_mode": {
    "name": "ipython",
    "version": 3
   },
   "file_extension": ".py",
   "mimetype": "text/x-python",
   "name": "python",
   "nbconvert_exporter": "python",
   "pygments_lexer": "ipython3",
   "version": "3.13.2"
  }
 },
 "nbformat": 4,
 "nbformat_minor": 5
}
