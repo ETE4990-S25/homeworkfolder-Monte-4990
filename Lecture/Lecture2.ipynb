{
 "cells": [
  {
   "cell_type": "code",
   "execution_count": 7,
   "id": "9ae3e097-727c-4000-9998-d8079e679019",
   "metadata": {},
   "outputs": [
    {
     "data": {
      "text/plain": [
       "True"
      ]
     },
     "execution_count": 7,
     "metadata": {},
     "output_type": "execute_result"
    }
   ],
   "source": [
    "name = \"Bill Nie\"\n",
    "name.lower() == \"bill nie\""
   ]
  },
  {
   "cell_type": "code",
   "execution_count": 8,
   "id": "902af343-980b-43e3-a321-297efa8fa622",
   "metadata": {},
   "outputs": [],
   "source": [
    "aList = [1, 2, 3, 4]"
   ]
  },
  {
   "cell_type": "code",
   "execution_count": 9,
   "id": "080667de-7cf1-4937-8df1-66260db7a5d2",
   "metadata": {},
   "outputs": [
    {
     "data": {
      "text/plain": [
       "True"
      ]
     },
     "execution_count": 9,
     "metadata": {},
     "output_type": "execute_result"
    }
   ],
   "source": [
    "2 in aList"
   ]
  },
  {
   "cell_type": "code",
   "execution_count": 10,
   "id": "572eee4a-90c0-4f75-bb52-662e0e84b2de",
   "metadata": {},
   "outputs": [
    {
     "data": {
      "text/plain": [
       "False"
      ]
     },
     "execution_count": 10,
     "metadata": {},
     "output_type": "execute_result"
    }
   ],
   "source": [
    "6 in aList"
   ]
  },
  {
   "cell_type": "code",
   "execution_count": 11,
   "id": "8493847f-7e70-40ff-a636-126a0e2995b5",
   "metadata": {},
   "outputs": [],
   "source": [
    "aList = [1 , 2, 3, \"word1\", \"word2\"]"
   ]
  },
  {
   "cell_type": "code",
   "execution_count": 12,
   "id": "3589534a-1c1f-4f7d-bd90-56887c06c38a",
   "metadata": {},
   "outputs": [
    {
     "ename": "SyntaxError",
     "evalue": "Missing parentheses in call to 'print'. Did you mean print(...)? (2836810195.py, line 1)",
     "output_type": "error",
     "traceback": [
      "\u001b[1;36m  Cell \u001b[1;32mIn[12], line 1\u001b[1;36m\u001b[0m\n\u001b[1;33m    print aList\u001b[0m\n\u001b[1;37m    ^\u001b[0m\n\u001b[1;31mSyntaxError\u001b[0m\u001b[1;31m:\u001b[0m Missing parentheses in call to 'print'. Did you mean print(...)?\n"
     ]
    }
   ],
   "source": []
  },
  {
   "cell_type": "code",
   "execution_count": 20,
   "id": "748d2a42-a788-467e-a744-c47422637063",
   "metadata": {},
   "outputs": [
    {
     "name": "stdout",
     "output_type": "stream",
     "text": [
      "<class 'str'>\n"
     ]
    }
   ],
   "source": [
    "print(type(aList[4]))"
   ]
  },
  {
   "cell_type": "code",
   "execution_count": 23,
   "id": "44d5cabc-50a7-41ab-a22a-493e4bed011a",
   "metadata": {},
   "outputs": [
    {
     "data": {
      "text/plain": [
       "'Word1'"
      ]
     },
     "execution_count": 23,
     "metadata": {},
     "output_type": "execute_result"
    }
   ],
   "source": [
    "aList[3].title() #title turns the word into a Uppercase title"
   ]
  },
  {
   "cell_type": "code",
   "execution_count": 24,
   "id": "b6eaa90b-fbdd-4084-9363-129e84a73be3",
   "metadata": {},
   "outputs": [],
   "source": [
    "bList = aList"
   ]
  },
  {
   "cell_type": "code",
   "execution_count": 25,
   "id": "e09a9525-0845-4f89-bcb8-9a86b0618607",
   "metadata": {},
   "outputs": [
    {
     "name": "stdout",
     "output_type": "stream",
     "text": [
      "word2\n"
     ]
    }
   ],
   "source": [
    "print(aList[-1])"
   ]
  },
  {
   "cell_type": "code",
   "execution_count": null,
   "id": "18c2588d-d595-47d2-a68a-e1104708c397",
   "metadata": {},
   "outputs": [],
   "source": []
  }
 ],
 "metadata": {
  "kernelspec": {
   "display_name": "Python 3 (ipykernel)",
   "language": "python",
   "name": "python3"
  },
  "language_info": {
   "codemirror_mode": {
    "name": "ipython",
    "version": 3
   },
   "file_extension": ".py",
   "mimetype": "text/x-python",
   "name": "python",
   "nbconvert_exporter": "python",
   "pygments_lexer": "ipython3",
   "version": "3.12.8"
  }
 },
 "nbformat": 4,
 "nbformat_minor": 5
}
