{
 "cells": [
  {
   "cell_type": "code",
   "execution_count": 8,
   "id": "dd92018c-25af-451d-8d2a-0810e9ca5b59",
   "metadata": {},
   "outputs": [
    {
     "name": "stdout",
     "output_type": "stream",
     "text": [
      "[1, 2, 3, 4, 5, 6]\n"
     ]
    }
   ],
   "source": [
    "brands = [1, 2, 3, 4, 5, 6] \n",
    "brands.sort()\n",
    "print(brands)"
   ]
  },
  {
   "cell_type": "code",
   "execution_count": null,
   "id": "5d6516b4-9187-4e1b-b837-5fdef06d3a13",
   "metadata": {},
   "outputs": [],
   "source": [
    "# .len tells you the length of the list"
   ]
  }
 ],
 "metadata": {
  "kernelspec": {
   "display_name": "Python 3 (ipykernel)",
   "language": "python",
   "name": "python3"
  },
  "language_info": {
   "codemirror_mode": {
    "name": "ipython",
    "version": 3
   },
   "file_extension": ".py",
   "mimetype": "text/x-python",
   "name": "python",
   "nbconvert_exporter": "python",
   "pygments_lexer": "ipython3",
   "version": "3.12.8"
  }
 },
 "nbformat": 4,
 "nbformat_minor": 5
}
