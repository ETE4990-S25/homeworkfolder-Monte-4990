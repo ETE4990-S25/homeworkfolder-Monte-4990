{
 "cells": [
  {
   "cell_type": "code",
   "execution_count": 1,
   "id": "bb74cced-4874-4b21-8ac0-5151d509723f",
   "metadata": {},
   "outputs": [
    {
     "name": "stdout",
     "output_type": "stream",
     "text": [
      "(\"don't die\", 'live forever', 'be a millionaire')\n",
      "<class 'tuple'>\n",
      "don't die\n",
      "live forever\n",
      "be a millionaire\n"
     ]
    }
   ],
   "source": [
    "def bucket_list(*things_to_do):\n",
    "    \"\"\" Print the list of input strings \"\"\"\n",
    "    print(things_to_do)\n",
    "    print(type(things_to_do))\n",
    "    for things in things_to_do:\n",
    "        print(things)\n",
    "\n",
    "#bucket_list('pass collage', 'be a millionaire')\n",
    "bucket_list('don\\'t die', 'live forever', 'be a millionaire')\n"
   ]
  },
  {
   "cell_type": "code",
   "execution_count": 2,
   "id": "0317a3ba-5253-414d-9e18-d7452874d7a8",
   "metadata": {},
   "outputs": [
    {
     "name": "stdout",
     "output_type": "stream",
     "text": [
      "{'GPA': 0.0}\n",
      "{'first': 'Mr.', 'last': 'Powers', 'GPA': 0.0}\n"
     ]
    }
   ],
   "source": [
    "def student(first_name, last_name, **args): \n",
    "    \"\"\" Creates a dictionary of a student \"\"\"\n",
    "    person = {'first': first_name, 'last': last_name}\n",
    "    print(args)\n",
    "    for key, value in args.items():\n",
    "        person[key]= value\n",
    "    return person\n",
    "        \n",
    "student1 = student('Mr.', 'Powers', GPA = 0.0)\n",
    "print(student1) "
   ]
  },
  {
   "cell_type": "code",
   "execution_count": null,
   "id": "4feb2041-f468-4c6b-84b8-08c8eea36a07",
   "metadata": {},
   "outputs": [],
   "source": []
  }
 ],
 "metadata": {
  "kernelspec": {
   "display_name": "Python 3 (ipykernel)",
   "language": "python",
   "name": "python3"
  },
  "language_info": {
   "codemirror_mode": {
    "name": "ipython",
    "version": 3
   },
   "file_extension": ".py",
   "mimetype": "text/x-python",
   "name": "python",
   "nbconvert_exporter": "python",
   "pygments_lexer": "ipython3",
   "version": "3.12.8"
  }
 },
 "nbformat": 4,
 "nbformat_minor": 5
}
