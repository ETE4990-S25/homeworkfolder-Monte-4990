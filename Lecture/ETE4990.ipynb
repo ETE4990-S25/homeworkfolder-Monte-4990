{
 "cells": [
  {
   "cell_type": "code",
   "execution_count": 1,
   "id": "448d8358-009c-40da-bcd8-17ad4d16ec82",
   "metadata": {},
   "outputs": [
    {
     "name": "stdout",
     "output_type": "stream",
     "text": [
      "shervin\n"
     ]
    }
   ],
   "source": [
    "print(\"shervin\")\n"
   ]
  },
  {
   "cell_type": "code",
   "execution_count": 2,
   "id": "6819e27d-274b-4863-bdb2-ce9e8e1b5153",
   "metadata": {},
   "outputs": [],
   "source": [
    "# dasdsadasdasdasdasdasdsadsadsadasds"
   ]
  },
  {
   "cell_type": "code",
   "execution_count": 3,
   "id": "fe9e1517-206d-440d-b08d-fcd7e7786ad1",
   "metadata": {},
   "outputs": [
    {
     "name": "stdout",
     "output_type": "stream",
     "text": [
      "0\n",
      "1\n",
      "2\n",
      "3\n",
      "4\n",
      "5\n",
      "6\n",
      "7\n",
      "8\n",
      "9\n"
     ]
    }
   ],
   "source": [
    "# Here, I am writing the program to run a loop from 0 to 10\n",
    "for i in range(10):  # Default start is 0, stop is 10\n",
    "    print(i)"
   ]
  },
  {
   "cell_type": "code",
   "execution_count": 4,
   "id": "aaae353c-09de-4558-9093-ddcb6168b260",
   "metadata": {},
   "outputs": [
    {
     "name": "stdout",
     "output_type": "stream",
     "text": [
      "0\n",
      "1\n",
      "2\n",
      "3\n",
      "4\n",
      "5\n",
      "6\n",
      "7\n",
      "8\n",
      "9\n",
      "10\n"
     ]
    }
   ],
   "source": [
    "for i in range(0, 11):  # Includes 0 and goes up to 10 (inclusive)\n",
    "    print(i)"
   ]
  },
  {
   "cell_type": "code",
   "execution_count": 9,
   "id": "2c149188-9479-4105-a5df-27a81449ac2a",
   "metadata": {},
   "outputs": [
    {
     "name": "stdout",
     "output_type": "stream",
     "text": [
      "Alice\n",
      "25\n"
     ]
    }
   ],
   "source": [
    "data = {\"name\": \"Alice\", \"age\": 25}\n",
    "print(data[\"name\"])\n",
    "print(data[\"age\"])"
   ]
  },
  {
   "cell_type": "code",
   "execution_count": 8,
   "id": "34b63318-e759-4fb6-80e0-ff5178e3e230",
   "metadata": {},
   "outputs": [
    {
     "name": "stdout",
     "output_type": "stream",
     "text": [
      "[0, 1, 4, 9, 16]\n"
     ]
    }
   ],
   "source": [
    "squares = [x**2 for x in range(5)]\n",
    "print(squares)"
   ]
  },
  {
   "cell_type": "code",
   "execution_count": 12,
   "id": "05600f9e-c4f7-43c7-81bf-3740172a845b",
   "metadata": {},
   "outputs": [
    {
     "name": "stdout",
     "output_type": "stream",
     "text": [
      "30\n"
     ]
    }
   ],
   "source": [
    "age = 20\n",
    "price = 19.95\n",
    "first_name = \"Mosh\"\n",
    "is_online = False\n",
    "print(age)"
   ]
  },
  {
   "cell_type": "code",
   "execution_count": null,
   "id": "357a7b0c-2f28-4101-a378-71dbe9c33c5d",
   "metadata": {},
   "outputs": [],
   "source": []
  }
 ],
 "metadata": {
  "kernelspec": {
   "display_name": "Python 3 (ipykernel)",
   "language": "python",
   "name": "python3"
  },
  "language_info": {
   "codemirror_mode": {
    "name": "ipython",
    "version": 3
   },
   "file_extension": ".py",
   "mimetype": "text/x-python",
   "name": "python",
   "nbconvert_exporter": "python",
   "pygments_lexer": "ipython3",
   "version": "3.12.8"
  }
 },
 "nbformat": 4,
 "nbformat_minor": 5
}
