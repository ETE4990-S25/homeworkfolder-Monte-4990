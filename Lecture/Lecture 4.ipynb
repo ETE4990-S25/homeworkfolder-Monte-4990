{
 "cells": [
  {
   "cell_type": "code",
   "execution_count": 5,
   "id": "4c4fc6ff-2b43-48a8-931e-1e18c0cfedfa",
   "metadata": {},
   "outputs": [
    {
     "name": "stdout",
     "output_type": "stream",
     "text": [
      "[1, 16, 49, 100]\n"
     ]
    }
   ],
   "source": [
    "numbers = [1, 4, 7, 10]\n",
    "\n",
    "square = [i**2 for i in numbers]\n",
    "print(square)"
   ]
  },
  {
   "cell_type": "code",
   "execution_count": 6,
   "id": "a9376282-7564-4f2e-b65a-858a312fc854",
   "metadata": {},
   "outputs": [
    {
     "data": {
      "text/plain": [
       "[100]"
      ]
     },
     "execution_count": 6,
     "metadata": {},
     "output_type": "execute_result"
    }
   ],
   "source": [
    "square[3:5]"
   ]
  },
  {
   "cell_type": "code",
   "execution_count": 7,
   "id": "1ff72ad0-12e9-4cec-a94d-e09c841d2f8d",
   "metadata": {},
   "outputs": [
    {
     "data": {
      "text/plain": [
       "[16, 49, 100]"
      ]
     },
     "execution_count": 7,
     "metadata": {},
     "output_type": "execute_result"
    }
   ],
   "source": [
    "square[1:4]"
   ]
  },
  {
   "cell_type": "code",
   "execution_count": 8,
   "id": "1770979a-8ec2-4670-88f0-c90c86ae828a",
   "metadata": {},
   "outputs": [
    {
     "name": "stdout",
     "output_type": "stream",
     "text": [
      "1\n"
     ]
    }
   ],
   "source": [
    "print(min(square))"
   ]
  },
  {
   "cell_type": "code",
   "execution_count": 9,
   "id": "0957e310-c48c-4608-8c66-605a153864d3",
   "metadata": {},
   "outputs": [
    {
     "name": "stdout",
     "output_type": "stream",
     "text": [
      "1\n"
     ]
    }
   ],
   "source": [
    "print(min(square))"
   ]
  },
  {
   "cell_type": "code",
   "execution_count": 10,
   "id": "1e993637-9f65-4633-bfaf-8ba6cfabdfe8",
   "metadata": {},
   "outputs": [
    {
     "name": "stdout",
     "output_type": "stream",
     "text": [
      "100\n"
     ]
    }
   ],
   "source": [
    "print(max(square))"
   ]
  },
  {
   "cell_type": "code",
   "execution_count": 11,
   "id": "57944409-006f-407c-a05f-85d9b4381f0f",
   "metadata": {},
   "outputs": [
    {
     "name": "stderr",
     "output_type": "stream",
     "text": [
      "<>:1: SyntaxWarning: \"is\" with 'int' literal. Did you mean \"==\"?\n",
      "<>:1: SyntaxWarning: \"is\" with 'int' literal. Did you mean \"==\"?\n",
      "C:\\Users\\antmo\\AppData\\Local\\Temp\\ipykernel_6500\\2936131494.py:1: SyntaxWarning: \"is\" with 'int' literal. Did you mean \"==\"?\n",
      "  square[1] is 0\n"
     ]
    },
    {
     "data": {
      "text/plain": [
       "False"
      ]
     },
     "execution_count": 11,
     "metadata": {},
     "output_type": "execute_result"
    }
   ],
   "source": [
    "square[1] is 0"
   ]
  },
  {
   "cell_type": "code",
   "execution_count": 12,
   "id": "43eef714-20e8-456e-83fa-96b3a0d3f15b",
   "metadata": {},
   "outputs": [
    {
     "data": {
      "text/plain": [
       "False"
      ]
     },
     "execution_count": 12,
     "metadata": {},
     "output_type": "execute_result"
    }
   ],
   "source": [
    "square[1] == 1"
   ]
  },
  {
   "cell_type": "code",
   "execution_count": null,
   "id": "00b83770-9124-4c38-8170-453d04c44d2d",
   "metadata": {},
   "outputs": [],
   "source": []
  }
 ],
 "metadata": {
  "kernelspec": {
   "display_name": "Python 3 (ipykernel)",
   "language": "python",
   "name": "python3"
  },
  "language_info": {
   "codemirror_mode": {
    "name": "ipython",
    "version": 3
   },
   "file_extension": ".py",
   "mimetype": "text/x-python",
   "name": "python",
   "nbconvert_exporter": "python",
   "pygments_lexer": "ipython3",
   "version": "3.12.8"
  }
 },
 "nbformat": 4,
 "nbformat_minor": 5
}
