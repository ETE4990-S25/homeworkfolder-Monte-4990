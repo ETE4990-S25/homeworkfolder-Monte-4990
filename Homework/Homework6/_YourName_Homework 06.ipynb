{
 "cells": [
  {
   "cell_type": "markdown",
   "metadata": {},
   "source": [
    "Your name goes here Pleaese"
   ]
  },
  {
   "cell_type": "code",
   "execution_count": null,
   "metadata": {},
   "outputs": [],
   "source": []
  },
  {
   "cell_type": "markdown",
   "metadata": {},
   "source": [
    "## Objective:\n",
    "The objective of this assignment is to practice using Functional Programing.\n",
    "\n",
    "## Instructions:\n",
    "\n",
    "Using everything we learned to day about Functional Programing, lambda and itters create one of each of the following:\n",
    "-  Basic Lambda Function\n",
    "    - Create a lambda function that takes one arguments and returns even or odd.\n",
    "- Advanced lambda Function\n",
    "    - Create a lambda function that takes a list and returns their sum \n",
    "- Sorting with Lambda\n",
    "- Filtering with Lambda - `filter()` \n",
    "- Mapping with Lambda - `map()`\n",
    "- Reducing with Lambda -  `reduce()` \n",
    "- Enumerate with or without Lambda - `enumerate()`\n",
    "- zip with or without lambda (may combine enumerate like in class) - `zip()`\n",
    "\n",
    "Submit the file as a .py \n",
    "\n",
    "\n"
   ]
  },
  {
   "cell_type": "code",
   "execution_count": null,
   "metadata": {},
   "outputs": [
    {
     "name": "stdout",
     "output_type": "stream",
     "text": [
      "Basic Lambda Function: Odd\n",
      "Advanced Lambda Function: 10\n",
      "Sorted List: [1, 2, 3, 4, 5, 6]\n",
      "Map square numbers: [0, 1, 4, 9, 16, 25, 36, 49, 64, 81]\n",
      "Filter words with a only: ['apple', 'banana']\n",
      "Reduced Total Sum: 55\n",
      "Enumerate: [(0, 1), (1, 2), (2, 3), (3, 4), (4, 5), (5, 6), (6, 7), (7, 8), (8, 9), (9, 10)]\n",
      "Zipped List: [(1, 'a'), (2, 'b'), (3, 'c'), (4, 'd')]\n"
     ]
    }
   ],
   "source": [
    "from functools import reduce\n",
    "\n",
    "odd_even = lambda x: \"Even\" if x % 2 == 0 else \"Odd\" # odd or even function\n",
    "\n",
    "sum_of_list = lambda lst: sum(lst) #sum() function\n",
    "sort_List = lambda lst: sorted(lst) #sorted() function\n",
    "\n",
    "unsorted_list = [6, 4, 1, 3, 2, 5] # lambda unsorted dictionary \n",
    "sorted_list = sorted(unsorted_list, key=lambda x: x) # sorted() function\n",
    "\n",
    "numbers = [1, 2, 3, 4, 5, 6, 7, 8, 9, 10] # number list\n",
    "\n",
    "even_numbers = list(filter(lambda x: x % 2 == 0, numbers)) # filter() list for even numbers\n",
    "\n",
    "words = [\"apple\", \"banana\", \"cherry\", \"eggfruit\"]\n",
    "filter_words = list(filter(lambda word: \"a\" in word, words)) # you can also filter words with the letter A in them \n",
    "\n",
    "map_numbers = (list(map(lambda x: x ** 2,range(10)))) # map function to square numbers\n",
    "\n",
    "enumerated_list = list(enumerate(numbers)) # enumerate() function adds index to each item in the list\n",
    "\n",
    "list1 = [1, 2, 3, 4]\n",
    "list2 = ['a', 'b', 'c', 'd']\n",
    "zipped_list = list(zip(list1, list2)) # zip() function (zip combines two lists into pairs)\n",
    "\n",
    "# print functions -----------------------------------\n",
    "\n",
    "print(\"Basic Lambda Function:\", odd_even(3))\n",
    "print(\"Advanced Lambda Function:\", sum_of_list([1, 2, 3, 4]))\n",
    "print(\"Sorted List:\", sorted_list)\n",
    "print (\"Map square numbers:\", map_numbers)\n",
    "print (\"Filter words with a only:\", filter_words)\n",
    "print(\"Reduced Total Sum:\", reduce(lambda x, y: x + y, numbers))\n",
    "\n",
    "print(\"Enumerate:\", enumerated_list)\n",
    "print(\"Zipped List:\", zipped_list)"
   ]
  },
  {
   "cell_type": "markdown",
   "metadata": {},
   "source": []
  }
 ],
 "metadata": {
  "kernelspec": {
   "display_name": "Python 3",
   "language": "python",
   "name": "python3"
  },
  "language_info": {
   "codemirror_mode": {
    "name": "ipython",
    "version": 3
   },
   "file_extension": ".py",
   "mimetype": "text/x-python",
   "name": "python",
   "nbconvert_exporter": "python",
   "pygments_lexer": "ipython3",
   "version": "3.13.2"
  }
 },
 "nbformat": 4,
 "nbformat_minor": 2
}
