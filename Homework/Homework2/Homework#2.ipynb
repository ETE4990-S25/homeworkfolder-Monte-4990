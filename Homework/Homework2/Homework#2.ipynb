{
 "cells": [
  {
   "cell_type": "code",
   "execution_count": 9,
   "id": "e31ca035-2779-4e50-82a3-62fef3dac309",
   "metadata": {},
   "outputs": [
    {
     "name": "stdin",
     "output_type": "stream",
     "text": [
      "Enter an animal:  chicken\n",
      "you entered chicken! how old is the chicken? 10\n",
      "Enter eggs amount:  14\n"
     ]
    },
    {
     "name": "stdout",
     "output_type": "stream",
     "text": [
      "10 year old chicken lays 14 eggs.\n"
     ]
    }
   ],
   "source": [
    "\n",
    "class Animals:\n",
    "    def __init__(self, name):\n",
    "        self.name = name\n",
    "    def state_name(self): # states name of animal that doesn't fit in any category\n",
    "        return self.name\n",
    "\n",
    "class Milkable(Animals):\n",
    "    def __init__(self, name, age, milk_amount):\n",
    "        super().__init__(name)\n",
    "        self.age = age\n",
    "        self.milk_amount = milk_amount\n",
    "\n",
    "    def get_milk(self): # states name, age of cow/goat that produces x amount of milk\n",
    "        return f\"{self.age} year old {self.name} produces {self.milk_amount} liters of milk.\"\n",
    "\n",
    "class Eggable(Animals):\n",
    "    def __init__(self, name, age, egg_amount):\n",
    "        super().__init__(name)\n",
    "        self.age = age\n",
    "        self.egg_amount = egg_amount\n",
    "        \n",
    "    def get_eggs(self):\n",
    "        return f\"{self.age} year old {self.name} lays {self.egg_amount} eggs.\"\n",
    "\n",
    "# Get user input\n",
    "var = input(\"Enter an animal: \")\n",
    "\n",
    "# Instantiate a cow object if input is \"cow\"\n",
    "if var.lower() == \"cow\":\n",
    "    age = int(input(\"you entered cow! how old is the cow?\")) \n",
    "    milk_amount = int(input(\"Enter a milk amount: \")) \n",
    "    var = Milkable(var, age, milk_amount)\n",
    "    print(var.get_milk())\n",
    "elif var.lower() == \"chicken\":\n",
    "    age = int(input(\"you entered chicken! how old is the chicken?\")) \n",
    "    egg_amount = int(input(\"Enter eggs amount: \")) \n",
    "    var = Eggable(var, age, egg_amount)\n",
    "    print(var.get_eggs())\n",
    "elif var.lower() == \"chicken\" or \"dog\"\n",
    "# rest of this code needs to be for petable animals\n",
    "else:\n",
    "    var = Animals(var)  # Create a generic animal instance\n",
    "    print(var.state_name())  # Print the animal's name\n"
   ]
  },
  {
   "cell_type": "code",
   "execution_count": 13,
   "id": "d2db4a16-82e5-4532-be43-8dbb1679fc24",
   "metadata": {},
   "outputs": [
    {
     "name": "stdin",
     "output_type": "stream",
     "text": [
      "Enter an animal (or type 'done' to finish):  fish\n"
     ]
    },
    {
     "name": "stdout",
     "output_type": "stream",
     "text": [
      "fish\n"
     ]
    },
    {
     "name": "stdin",
     "output_type": "stream",
     "text": [
      "Enter an animal (or type 'done' to finish):  chicken\n",
      "You entered chicken! How old is it?  10\n",
      "Enter the number of eggs it lays:  3\n"
     ]
    },
    {
     "name": "stdout",
     "output_type": "stream",
     "text": [
      "10 year old chicken lays 3 eggs.\n"
     ]
    },
    {
     "name": "stdin",
     "output_type": "stream",
     "text": [
      "Enter an animal (or type 'done' to finish):  cow\n",
      "You entered cow! How old is it?  2\n",
      "Enter the milk amount:  3\n"
     ]
    },
    {
     "name": "stdout",
     "output_type": "stream",
     "text": [
      "2 year old cow produces 3 liters of milk.\n"
     ]
    },
    {
     "name": "stdin",
     "output_type": "stream",
     "text": [
      "Enter an animal (or type 'done' to finish):  duck\n",
      "You entered duck! How old is it?  10\n",
      "Enter the number of eggs it lays:  4\n"
     ]
    },
    {
     "name": "stdout",
     "output_type": "stream",
     "text": [
      "10 year old duck lays 4 eggs.\n"
     ]
    },
    {
     "name": "stdin",
     "output_type": "stream",
     "text": [
      "Enter an animal (or type 'done' to finish):  done\n"
     ]
    },
    {
     "name": "stdout",
     "output_type": "stream",
     "text": [
      "\n",
      "Stored Animals:\n",
      "fish\n",
      "\n",
      "Options: add, remove, display, exit\n"
     ]
    },
    {
     "name": "stdin",
     "output_type": "stream",
     "text": [
      "What would you like to do?  display\n"
     ]
    },
    {
     "ename": "NameError",
     "evalue": "name 'display_animals' is not defined",
     "output_type": "error",
     "traceback": [
      "\u001b[1;31m---------------------------------------------------------------------------\u001b[0m",
      "\u001b[1;31mNameError\u001b[0m                                 Traceback (most recent call last)",
      "Cell \u001b[1;32mIn[13], line 103\u001b[0m\n\u001b[0;32m    101\u001b[0m     remove_animal(animal_input)\n\u001b[0;32m    102\u001b[0m \u001b[38;5;28;01melif\u001b[39;00m action \u001b[38;5;241m==\u001b[39m \u001b[38;5;124m\"\u001b[39m\u001b[38;5;124mdisplay\u001b[39m\u001b[38;5;124m\"\u001b[39m:\n\u001b[1;32m--> 103\u001b[0m     \u001b[43mdisplay_animals\u001b[49m()\n\u001b[0;32m    104\u001b[0m \u001b[38;5;28;01melif\u001b[39;00m action \u001b[38;5;241m==\u001b[39m \u001b[38;5;124m\"\u001b[39m\u001b[38;5;124mexit\u001b[39m\u001b[38;5;124m\"\u001b[39m:\n\u001b[0;32m    105\u001b[0m     \u001b[38;5;28mprint\u001b[39m(\u001b[38;5;124m\"\u001b[39m\u001b[38;5;124mExiting program.\u001b[39m\u001b[38;5;124m\"\u001b[39m)\n",
      "\u001b[1;31mNameError\u001b[0m: name 'display_animals' is not defined"
     ]
    }
   ],
   "source": [
    "class Animals:\n",
    "    def __init__(self, name):\n",
    "        self.name = name\n",
    "\n",
    "    def state_name(self):  # States the name of an animal that doesn't fit in any category\n",
    "        return self.name\n",
    "\n",
    "class Milkable(Animals):\n",
    "    def __init__(self, name, age, milk_amount):\n",
    "        super().__init__(name)\n",
    "        self.age = age\n",
    "        self.milk_amount = milk_amount\n",
    "\n",
    "    def get_milk(self):  # States name, age of a cow/goat that produces x amount of milk\n",
    "        return f\"{self.age} year old {self.name} produces {self.milk_amount} liters of milk.\"\n",
    "\n",
    "class EggLaying(Animals):\n",
    "    def __init__(self, name, age, egg_amount):\n",
    "        super().__init__(name)\n",
    "        self.age = age\n",
    "        self.egg_amount = egg_amount\n",
    "\n",
    "    def get_eggs(self):\n",
    "        return f\"{self.age} year old {self.name} lays {self.egg_amount} eggs.\"\n",
    "\n",
    "class Petable(Animals):\n",
    "    def __init__(self, name, breed):\n",
    "        super().__init__(name)\n",
    "        self.breed = breed\n",
    "\n",
    "    def pet_info(self):\n",
    "        return f\"{self.name} is a pet of breed {self.breed}.\"\n",
    "\n",
    "# List to store multiple animals\n",
    "animals_list = []\n",
    "\n",
    "# Function to create milkable animals\n",
    "def create_milkable_animal(name):\n",
    "    age = int(input(f\"You entered {name}! How old is it? \")) \n",
    "    milk_amount = int(input(\"Enter the milk amount: \")) \n",
    "    return Milkable(name, age, milk_amount)\n",
    "\n",
    "# Function to create eggable animals\n",
    "def create_egglaying_animal(name):\n",
    "    age = int(input(f\"You entered {name}! How old is it? \")) \n",
    "    egg_amount = int(input(\"Enter the number of eggs it lays: \")) \n",
    "    return EggLaying(name, age, egg_amount)\n",
    "\n",
    "# Function to create petable animals\n",
    "def create_petable_animal(name):\n",
    "    breed = input(f\"You entered {name}! What breed is it? \")\n",
    "    return Petable(name, breed)\n",
    "\n",
    "# Function to handle animal creation and store in list\n",
    "def handle_animal(animal_name):\n",
    "    animal_name = animal_name.lower()\n",
    "    \n",
    "    if animal_name in [\"cow\", \"goat\"]:  # Milk-producing animals\n",
    "        animal = create_milkable_animal(animal_name)\n",
    "        print(animal.get_milk())\n",
    "    elif animal_name in [\"chicken\", \"duck\"]:  # Egg-producing animals\n",
    "        animal = create_egglaying_animal(animal_name)\n",
    "        print(animal.get_eggs())\n",
    "    elif animal_name in [\"dog\", \"cat\", \"rabbit\"]:  # Petable animals\n",
    "        animal = create_petable_animal(animal_name)\n",
    "        print(animal.pet_info())\n",
    "    else:  # Default case\n",
    "        animal = Animals(animal_name)\n",
    "        print(animal.state_name())\n",
    "\n",
    "    animals_list.append(animal)  # Store the created animal\n",
    "\n",
    "# Loop to allow adding multiple animals\n",
    "while True:\n",
    "    animal_input = input(\"Enter an animal (or type 'done' to finish): \")\n",
    "    if animal_input.lower() == \"done\":\n",
    "        break\n",
    "    handle_animal(animal_input)\n",
    "\n",
    "# Display all stored animals\n",
    "print(\"\\nStored Animals:\")\n",
    "for animal in animals_list:\n",
    "    if isinstance(animal, Milkable):\n",
    "        print(animal.get_milk())\n",
    "    elif isinstance(animal, EggLaying):\n",
    "        print(animal.get_eggs())\n",
    "    elif isinstance(animal, Petable):\n",
    "        print(animal.pet_info())\n",
    "    else:\n",
    "        print(animal.state_name())\n",
    "\n",
    "# Function to remove an animal from the list\n",
    "    while True:\n",
    "        print(\"\\nOptions: add, remove, display, exit\")\n",
    "        action = input(\"What would you like to do? \").lower()\n",
    "        if action == \"add\":\n",
    "            animal_input = input(\"Enter an animal: \")\n",
    "            handle_animal(animal_input)\n",
    "        elif action == \"remove\":\n",
    "            animal_input = input(\"Enter the name of the animal to remove: \")\n",
    "            remove_animal(animal_input)\n",
    "        elif action == \"display\":\n",
    "            display_animals()\n",
    "        elif action == \"exit\":\n",
    "            print(\"Exiting program.\")\n",
    "            break\n",
    "        else:\n",
    "            print(\"Invalid option. Try again.\")\n"
   ]
  },
  {
   "cell_type": "code",
   "execution_count": null,
   "id": "7e18329a-982a-4aea-89b1-6b709d88cff8",
   "metadata": {},
   "outputs": [
    {
     "name": "stdout",
     "output_type": "stream",
     "text": [
      "\n",
      "Options: add, remove, display, exit\n"
     ]
    },
    {
     "name": "stdin",
     "output_type": "stream",
     "text": [
      "What would you like to do?  display\n"
     ]
    },
    {
     "name": "stdout",
     "output_type": "stream",
     "text": [
      "No animals stored.\n",
      "\n",
      "Options: add, remove, display, exit\n"
     ]
    },
    {
     "name": "stdin",
     "output_type": "stream",
     "text": [
      "What would you like to do?  add\n",
      "Enter an animal:  dogs\n"
     ]
    },
    {
     "name": "stdout",
     "output_type": "stream",
     "text": [
      "dogs\n",
      "\n",
      "Options: add, remove, display, exit\n"
     ]
    },
    {
     "name": "stdin",
     "output_type": "stream",
     "text": [
      "What would you like to do?  dog\n"
     ]
    },
    {
     "name": "stdout",
     "output_type": "stream",
     "text": [
      "Invalid option. Try again.\n",
      "\n",
      "Options: add, remove, display, exit\n"
     ]
    },
    {
     "name": "stdin",
     "output_type": "stream",
     "text": [
      "What would you like to do?  add\n",
      "Enter an animal:  dog\n",
      "You entered dog! What breed is it?  German Shepherd\n"
     ]
    },
    {
     "name": "stdout",
     "output_type": "stream",
     "text": [
      "dog is a pet of breed German Shepherd.\n",
      "\n",
      "Options: add, remove, display, exit\n"
     ]
    },
    {
     "name": "stdin",
     "output_type": "stream",
     "text": [
      "What would you like to do?  add\n",
      "Enter an animal:  cat\n",
      "You entered cat! What breed is it?  calico\n"
     ]
    },
    {
     "name": "stdout",
     "output_type": "stream",
     "text": [
      "cat is a pet of breed calico.\n",
      "\n",
      "Options: add, remove, display, exit\n"
     ]
    }
   ],
   "source": [
    "class Animals:\n",
    "    def __init__(self, name):\n",
    "        self.name = name\n",
    "\n",
    "    def state_name(self):  # States the name of an animal that doesn't fit in any category\n",
    "        return self.name\n",
    "\n",
    "class Milkable(Animals):\n",
    "    def __init__(self, name, age, milk_amount):\n",
    "        super().__init__(name)\n",
    "        self.age = age\n",
    "        self.milk_amount = milk_amount\n",
    "\n",
    "    def get_milk(self):  # States name, age of a cow/goat that produces x amount of milk\n",
    "        return f\"{self.age} year old {self.name} produces {self.milk_amount} liters of milk.\"\n",
    "\n",
    "class EggLaying(Animals):\n",
    "    def __init__(self, name, age, egg_amount):\n",
    "        super().__init__(name)\n",
    "        self.age = age\n",
    "        self.egg_amount = egg_amount\n",
    "\n",
    "    def get_eggs(self):\n",
    "        return f\"{self.age} year old {self.name} lays {self.egg_amount} eggs.\"\n",
    "\n",
    "class Petable(Animals):\n",
    "    def __init__(self, name, breed):\n",
    "        super().__init__(name)\n",
    "        self.breed = breed\n",
    "\n",
    "    def pet_info(self):\n",
    "        return f\"{self.name} is a pet of breed {self.breed}.\"\n",
    "\n",
    "# List to store multiple animals\n",
    "animals_list = []\n",
    "\n",
    "# Function to create milkable animals\n",
    "def create_milkable_animal(name):\n",
    "    age = int(input(f\"You entered {name}! How old is it? \")) \n",
    "    milk_amount = int(input(\"Enter the milk amount: \")) \n",
    "    return Milkable(name, age, milk_amount)\n",
    "\n",
    "# Function to create egg-laying animals\n",
    "def create_egglaying_animal(name):\n",
    "    age = int(input(f\"You entered {name}! How old is it? \")) \n",
    "    egg_amount = int(input(\"Enter the number of eggs it lays: \")) \n",
    "    return EggLaying(name, age, egg_amount)\n",
    "\n",
    "# Function to create petable animals\n",
    "def create_petable_animal(name):\n",
    "    breed = input(f\"You entered {name}! What breed is it? \")\n",
    "    return Petable(name, breed)\n",
    "\n",
    "# Function to handle animal creation and store in list\n",
    "def handle_animal(animal_name):\n",
    "    animal_name = animal_name.lower()\n",
    "    \n",
    "    if animal_name in [\"cow\", \"goat\"]:  # Milk-producing animals\n",
    "        animal = create_milkable_animal(animal_name)\n",
    "        print(animal.get_milk())\n",
    "    elif animal_name in [\"chicken\", \"duck\"]:  # Egg-producing animals\n",
    "        animal = create_egglaying_animal(animal_name)\n",
    "        print(animal.get_eggs())\n",
    "    elif animal_name in [\"dog\", \"cat\", \"rabbit\"]:  # Petable animals\n",
    "        animal = create_petable_animal(animal_name)\n",
    "        print(animal.pet_info())\n",
    "    else:  # Default case\n",
    "        animal = Animals(animal_name)\n",
    "        print(animal.state_name())\n",
    "\n",
    "    animals_list.append(animal)  # Store the created animal\n",
    "\n",
    "# Function to remove an animal from the list\n",
    "def remove_animal(animal_name):\n",
    "    global animals_list\n",
    "    for animal in animals_list:\n",
    "        if animal.name.lower() == animal_name.lower():\n",
    "            animals_list.remove(animal)\n",
    "            print(f\"{animal_name} has been removed.\")\n",
    "            return\n",
    "    print(f\"{animal_name} not found in the list.\")\n",
    "\n",
    "# Function to display all stored animals\n",
    "def display_animals():\n",
    "    if not animals_list:\n",
    "        print(\"No animals stored.\")\n",
    "        return\n",
    "    \n",
    "    print(\"\\nStored Animals:\")\n",
    "    for animal in animals_list:\n",
    "        if isinstance(animal, Milkable):\n",
    "            print(animal.get_milk())\n",
    "        elif isinstance(animal, EggLaying):\n",
    "            print(animal.get_eggs())\n",
    "        elif isinstance(animal, Petable):\n",
    "            print(animal.pet_info())\n",
    "        else:\n",
    "            print(animal.state_name())\n",
    "\n",
    "# Main program loop\n",
    "while True:\n",
    "    print(\"\\nOptions: add, remove, display, exit\")\n",
    "    action = input(\"What would you like to do? \").lower()\n",
    "\n",
    "    if action == \"add\":\n",
    "        animal_input = input(\"Enter an animal: \")\n",
    "        handle_animal(animal_input)\n",
    "    elif action == \"remove\":\n",
    "        animal_input = input(\"Enter the name of the animal to remove: \")\n",
    "        remove_animal(animal_input)\n",
    "    elif action == \"display\":\n",
    "        display_animals()\n",
    "    elif action == \"exit\":\n",
    "        print(\"Exiting program.\")\n",
    "        break\n",
    "    else:\n",
    "        print(\"Invalid option. Try again.\")"
   ]
  },
  {
   "cell_type": "code",
   "execution_count": null,
   "id": "7cf3785a-a9b0-4b64-8a4d-d11564f4d3e3",
   "metadata": {},
   "outputs": [],
   "source": []
  }
 ],
 "metadata": {
  "kernelspec": {
   "display_name": "Python 3 (ipykernel)",
   "language": "python",
   "name": "python3"
  },
  "language_info": {
   "codemirror_mode": {
    "name": "ipython",
    "version": 3
   },
   "file_extension": ".py",
   "mimetype": "text/x-python",
   "name": "python",
   "nbconvert_exporter": "python",
   "pygments_lexer": "ipython3",
   "version": "3.12.8"
  }
 },
 "nbformat": 4,
 "nbformat_minor": 5
}
