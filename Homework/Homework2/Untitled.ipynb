{
 "cells": [
  {
   "cell_type": "code",
   "execution_count": 2,
   "id": "362f5a5a-f470-464d-933a-01557b05f7ef",
   "metadata": {},
   "outputs": [
    {
     "name": "stdin",
     "output_type": "stream",
     "text": [
      "Enter an animal:  cow\n"
     ]
    },
    {
     "ename": "NameError",
     "evalue": "name 'Animals' is not defined",
     "output_type": "error",
     "traceback": [
      "\u001b[1;31m---------------------------------------------------------------------------\u001b[0m",
      "\u001b[1;31mNameError\u001b[0m                                 Traceback (most recent call last)",
      "Cell \u001b[1;32mIn[2], line 4\u001b[0m\n\u001b[0;32m      2\u001b[0m \u001b[38;5;66;03m# animal1=Animals(\"cow\")\u001b[39;00m\n\u001b[0;32m      3\u001b[0m \u001b[38;5;28;01mif\u001b[39;00m var \u001b[38;5;241m==\u001b[39m \u001b[38;5;124m\"\u001b[39m\u001b[38;5;124mcow\u001b[39m\u001b[38;5;124m\"\u001b[39m:\n\u001b[1;32m----> 4\u001b[0m     var \u001b[38;5;241m=\u001b[39m \u001b[43mAnimals\u001b[49m(var)\n\u001b[0;32m      6\u001b[0m \u001b[38;5;28;01mclass\u001b[39;00m\u001b[38;5;250m \u001b[39m\u001b[38;5;21;01mAnimals\u001b[39;00m (\u001b[38;5;28mself\u001b[39m):\n\u001b[0;32m      7\u001b[0m     \u001b[38;5;28;01mdef\u001b[39;00m\u001b[38;5;250m \u001b[39m\u001b[38;5;21m__init__\u001b[39m(\u001b[38;5;28mself\u001b[39m, name):\n",
      "\u001b[1;31mNameError\u001b[0m: name 'Animals' is not defined"
     ]
    }
   ],
   "source": [
    "var = (input(\"Enter an animal: \"))\n",
    "# animal1=Animals(\"cow\")\n",
    "if var == \"cow\":\n",
    "    var = Animals(var)\n",
    "\n",
    "class Animals:\n",
    "    def __init__(self, name):\n",
    "        self.name = name\n",
    "\n",
    "\n",
    "\n",
    "class Milkable(Animals):\n",
    "    def __init__(self, name, milk):\n",
    "        super().__init__(name)\n",
    "        self.milk = milk\n",
    "\n",
    "    def milk(self):\n",
    "        return self.milk"
   ]
  },
  {
   "cell_type": "code",
   "execution_count": 28,
   "id": "950713a3-635d-4846-b676-ecc45d4e6bd9",
   "metadata": {},
   "outputs": [
    {
     "name": "stdin",
     "output_type": "stream",
     "text": [
      "Enter an animal:  chicken\n"
     ]
    },
    {
     "name": "stdout",
     "output_type": "stream",
     "text": [
      "chicken\n"
     ]
    }
   ],
   "source": [
    "class Animals:\n",
    "    def __init__(self, name):\n",
    "        self.name = name\n",
    "    def state_name(self):\n",
    "        return self.name\n",
    "\n",
    "class Milkable(Animals):\n",
    "    def __init__(self, name, age, milk_amount):\n",
    "        super().__init__(name)\n",
    "        self.age = age\n",
    "        self.milk_amount = milk_amount\n",
    "\n",
    "    def get_milk(self):\n",
    "        return f\"{self.age} year old {self.name} produces {self.milk_amount} liters of milk.\"\n",
    "\n",
    "class Eggable(Animals):\n",
    "    def __init__(self, name, age, egg_amount):\n",
    "        super().__init__(name)\n",
    "        self.age = age\n",
    "        self.egg_amount = egg_amount\n",
    "\n",
    "# Get user input\n",
    "var = input(\"Enter an animal: \")\n",
    "\n",
    "# Instantiate an object if input is \"cow\"\n",
    "if var.lower() == \"cow\":\n",
    "    age = int(input(\"you entered cow! how old is the cow?\")) \n",
    "    milk_amount = int(input(\"Enter a milk amount\")) \n",
    "    var = Milkable(var, age, milk_amount)\n",
    "    print(var.get_milk())\n",
    "else:\n",
    "    var = Animals(var)\n",
    "if var.lower() == \"chicken\" or \"\n",
    "    print(var.state_name())\n"
   ]
  },
  {
   "cell_type": "code",
   "execution_count": null,
   "id": "5fcdf26e-53d4-48ed-bef6-26fd58a447dc",
   "metadata": {},
   "outputs": [],
   "source": []
  }
 ],
 "metadata": {
  "kernelspec": {
   "display_name": "Python 3 (ipykernel)",
   "language": "python",
   "name": "python3"
  },
  "language_info": {
   "codemirror_mode": {
    "name": "ipython",
    "version": 3
   },
   "file_extension": ".py",
   "mimetype": "text/x-python",
   "name": "python",
   "nbconvert_exporter": "python",
   "pygments_lexer": "ipython3",
   "version": "3.12.8"
  }
 },
 "nbformat": 4,
 "nbformat_minor": 5
}
